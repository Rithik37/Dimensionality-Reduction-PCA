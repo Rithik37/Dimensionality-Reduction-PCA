{
 "cells": [
  {
   "cell_type": "markdown",
   "metadata": {},
   "source": [
    "<h2>INTRODUCTION</h2>\n",
    "\n",
    "The objective is to classify a given silhouette as one of three types of vehicle, using a set of features extracted from the silhouette. The vehicle may be viewed from one of many different angles."
   ]
  },
  {
   "cell_type": "code",
   "execution_count": 2,
   "metadata": {},
   "outputs": [],
   "source": [
    "#importing the required libraries\n",
    "import pandas as pd\n",
    "import numpy as np\n",
    "import seaborn as sns\n",
    "%matplotlib inline\n",
    "import matplotlib.pyplot as plt\n",
    "from sklearn.metrics import confusion_matrix\n",
    "from sklearn.metrics import accuracy_score\n",
    "from sklearn.metrics import classification_report\n",
    "from sklearn.model_selection import train_test_split\n",
    "from sklearn.preprocessing import StandardScaler\n",
    "from matplotlib import rcParams\n",
    "import warnings\n",
    "warnings.filterwarnings('ignore')"
   ]
  },
  {
   "cell_type": "markdown",
   "metadata": {},
   "source": [
    "<h3>Reading the DataSet</h3>"
   ]
  },
  {
   "cell_type": "code",
   "execution_count": 3,
   "metadata": {},
   "outputs": [
    {
     "data": {
      "text/html": [
       "<div>\n",
       "<style scoped>\n",
       "    .dataframe tbody tr th:only-of-type {\n",
       "        vertical-align: middle;\n",
       "    }\n",
       "\n",
       "    .dataframe tbody tr th {\n",
       "        vertical-align: top;\n",
       "    }\n",
       "\n",
       "    .dataframe thead th {\n",
       "        text-align: right;\n",
       "    }\n",
       "</style>\n",
       "<table border=\"1\" class=\"dataframe\">\n",
       "  <thead>\n",
       "    <tr style=\"text-align: right;\">\n",
       "      <th></th>\n",
       "      <th>compactness</th>\n",
       "      <th>circularity</th>\n",
       "      <th>distance_circularity</th>\n",
       "      <th>radius_ratio</th>\n",
       "      <th>pr.axis_aspect_ratio</th>\n",
       "      <th>max.length_aspect_ratio</th>\n",
       "      <th>scatter_ratio</th>\n",
       "      <th>elongatedness</th>\n",
       "      <th>pr.axis_rectangularity</th>\n",
       "      <th>max.length_rectangularity</th>\n",
       "      <th>scaled_variance</th>\n",
       "      <th>scaled_variance.1</th>\n",
       "      <th>scaled_radius_of_gyration</th>\n",
       "      <th>scaled_radius_of_gyration.1</th>\n",
       "      <th>skewness_about</th>\n",
       "      <th>skewness_about.1</th>\n",
       "      <th>skewness_about.2</th>\n",
       "      <th>hollows_ratio</th>\n",
       "      <th>class</th>\n",
       "    </tr>\n",
       "  </thead>\n",
       "  <tbody>\n",
       "    <tr>\n",
       "      <th>0</th>\n",
       "      <td>95</td>\n",
       "      <td>48.0</td>\n",
       "      <td>83.0</td>\n",
       "      <td>178.0</td>\n",
       "      <td>72.0</td>\n",
       "      <td>10</td>\n",
       "      <td>162.0</td>\n",
       "      <td>42.0</td>\n",
       "      <td>20.0</td>\n",
       "      <td>159</td>\n",
       "      <td>176.0</td>\n",
       "      <td>379.0</td>\n",
       "      <td>184.0</td>\n",
       "      <td>70.0</td>\n",
       "      <td>6.0</td>\n",
       "      <td>16.0</td>\n",
       "      <td>187.0</td>\n",
       "      <td>197</td>\n",
       "      <td>van</td>\n",
       "    </tr>\n",
       "    <tr>\n",
       "      <th>1</th>\n",
       "      <td>91</td>\n",
       "      <td>41.0</td>\n",
       "      <td>84.0</td>\n",
       "      <td>141.0</td>\n",
       "      <td>57.0</td>\n",
       "      <td>9</td>\n",
       "      <td>149.0</td>\n",
       "      <td>45.0</td>\n",
       "      <td>19.0</td>\n",
       "      <td>143</td>\n",
       "      <td>170.0</td>\n",
       "      <td>330.0</td>\n",
       "      <td>158.0</td>\n",
       "      <td>72.0</td>\n",
       "      <td>9.0</td>\n",
       "      <td>14.0</td>\n",
       "      <td>189.0</td>\n",
       "      <td>199</td>\n",
       "      <td>van</td>\n",
       "    </tr>\n",
       "    <tr>\n",
       "      <th>2</th>\n",
       "      <td>104</td>\n",
       "      <td>50.0</td>\n",
       "      <td>106.0</td>\n",
       "      <td>209.0</td>\n",
       "      <td>66.0</td>\n",
       "      <td>10</td>\n",
       "      <td>207.0</td>\n",
       "      <td>32.0</td>\n",
       "      <td>23.0</td>\n",
       "      <td>158</td>\n",
       "      <td>223.0</td>\n",
       "      <td>635.0</td>\n",
       "      <td>220.0</td>\n",
       "      <td>73.0</td>\n",
       "      <td>14.0</td>\n",
       "      <td>9.0</td>\n",
       "      <td>188.0</td>\n",
       "      <td>196</td>\n",
       "      <td>car</td>\n",
       "    </tr>\n",
       "    <tr>\n",
       "      <th>3</th>\n",
       "      <td>93</td>\n",
       "      <td>41.0</td>\n",
       "      <td>82.0</td>\n",
       "      <td>159.0</td>\n",
       "      <td>63.0</td>\n",
       "      <td>9</td>\n",
       "      <td>144.0</td>\n",
       "      <td>46.0</td>\n",
       "      <td>19.0</td>\n",
       "      <td>143</td>\n",
       "      <td>160.0</td>\n",
       "      <td>309.0</td>\n",
       "      <td>127.0</td>\n",
       "      <td>63.0</td>\n",
       "      <td>6.0</td>\n",
       "      <td>10.0</td>\n",
       "      <td>199.0</td>\n",
       "      <td>207</td>\n",
       "      <td>van</td>\n",
       "    </tr>\n",
       "    <tr>\n",
       "      <th>4</th>\n",
       "      <td>85</td>\n",
       "      <td>44.0</td>\n",
       "      <td>70.0</td>\n",
       "      <td>205.0</td>\n",
       "      <td>103.0</td>\n",
       "      <td>52</td>\n",
       "      <td>149.0</td>\n",
       "      <td>45.0</td>\n",
       "      <td>19.0</td>\n",
       "      <td>144</td>\n",
       "      <td>241.0</td>\n",
       "      <td>325.0</td>\n",
       "      <td>188.0</td>\n",
       "      <td>127.0</td>\n",
       "      <td>9.0</td>\n",
       "      <td>11.0</td>\n",
       "      <td>180.0</td>\n",
       "      <td>183</td>\n",
       "      <td>bus</td>\n",
       "    </tr>\n",
       "  </tbody>\n",
       "</table>\n",
       "</div>"
      ],
      "text/plain": [
       "   compactness  circularity  distance_circularity  radius_ratio  \\\n",
       "0           95         48.0                  83.0         178.0   \n",
       "1           91         41.0                  84.0         141.0   \n",
       "2          104         50.0                 106.0         209.0   \n",
       "3           93         41.0                  82.0         159.0   \n",
       "4           85         44.0                  70.0         205.0   \n",
       "\n",
       "   pr.axis_aspect_ratio  max.length_aspect_ratio  scatter_ratio  \\\n",
       "0                  72.0                       10          162.0   \n",
       "1                  57.0                        9          149.0   \n",
       "2                  66.0                       10          207.0   \n",
       "3                  63.0                        9          144.0   \n",
       "4                 103.0                       52          149.0   \n",
       "\n",
       "   elongatedness  pr.axis_rectangularity  max.length_rectangularity  \\\n",
       "0           42.0                    20.0                        159   \n",
       "1           45.0                    19.0                        143   \n",
       "2           32.0                    23.0                        158   \n",
       "3           46.0                    19.0                        143   \n",
       "4           45.0                    19.0                        144   \n",
       "\n",
       "   scaled_variance  scaled_variance.1  scaled_radius_of_gyration  \\\n",
       "0            176.0              379.0                      184.0   \n",
       "1            170.0              330.0                      158.0   \n",
       "2            223.0              635.0                      220.0   \n",
       "3            160.0              309.0                      127.0   \n",
       "4            241.0              325.0                      188.0   \n",
       "\n",
       "   scaled_radius_of_gyration.1  skewness_about  skewness_about.1  \\\n",
       "0                         70.0             6.0              16.0   \n",
       "1                         72.0             9.0              14.0   \n",
       "2                         73.0            14.0               9.0   \n",
       "3                         63.0             6.0              10.0   \n",
       "4                        127.0             9.0              11.0   \n",
       "\n",
       "   skewness_about.2  hollows_ratio class  \n",
       "0             187.0            197   van  \n",
       "1             189.0            199   van  \n",
       "2             188.0            196   car  \n",
       "3             199.0            207   van  \n",
       "4             180.0            183   bus  "
      ]
     },
     "execution_count": 3,
     "metadata": {},
     "output_type": "execute_result"
    }
   ],
   "source": [
    "df=pd.read_csv('vehicle.csv')\n",
    "df.head()"
   ]
  },
  {
   "cell_type": "code",
   "execution_count": 4,
   "metadata": {},
   "outputs": [
    {
     "data": {
      "text/html": [
       "<div>\n",
       "<style scoped>\n",
       "    .dataframe tbody tr th:only-of-type {\n",
       "        vertical-align: middle;\n",
       "    }\n",
       "\n",
       "    .dataframe tbody tr th {\n",
       "        vertical-align: top;\n",
       "    }\n",
       "\n",
       "    .dataframe thead th {\n",
       "        text-align: right;\n",
       "    }\n",
       "</style>\n",
       "<table border=\"1\" class=\"dataframe\">\n",
       "  <thead>\n",
       "    <tr style=\"text-align: right;\">\n",
       "      <th></th>\n",
       "      <th>compactness</th>\n",
       "      <th>circularity</th>\n",
       "      <th>distance_circularity</th>\n",
       "      <th>radius_ratio</th>\n",
       "      <th>pr.axis_aspect_ratio</th>\n",
       "      <th>max.length_aspect_ratio</th>\n",
       "      <th>scatter_ratio</th>\n",
       "      <th>elongatedness</th>\n",
       "      <th>pr.axis_rectangularity</th>\n",
       "      <th>max.length_rectangularity</th>\n",
       "      <th>scaled_variance</th>\n",
       "      <th>scaled_variance.1</th>\n",
       "      <th>scaled_radius_of_gyration</th>\n",
       "      <th>scaled_radius_of_gyration.1</th>\n",
       "      <th>skewness_about</th>\n",
       "      <th>skewness_about.1</th>\n",
       "      <th>skewness_about.2</th>\n",
       "      <th>hollows_ratio</th>\n",
       "      <th>class</th>\n",
       "    </tr>\n",
       "  </thead>\n",
       "  <tbody>\n",
       "    <tr>\n",
       "      <th>841</th>\n",
       "      <td>93</td>\n",
       "      <td>39.0</td>\n",
       "      <td>87.0</td>\n",
       "      <td>183.0</td>\n",
       "      <td>64.0</td>\n",
       "      <td>8</td>\n",
       "      <td>169.0</td>\n",
       "      <td>40.0</td>\n",
       "      <td>20.0</td>\n",
       "      <td>134</td>\n",
       "      <td>200.0</td>\n",
       "      <td>422.0</td>\n",
       "      <td>149.0</td>\n",
       "      <td>72.0</td>\n",
       "      <td>7.0</td>\n",
       "      <td>25.0</td>\n",
       "      <td>188.0</td>\n",
       "      <td>195</td>\n",
       "      <td>car</td>\n",
       "    </tr>\n",
       "    <tr>\n",
       "      <th>842</th>\n",
       "      <td>89</td>\n",
       "      <td>46.0</td>\n",
       "      <td>84.0</td>\n",
       "      <td>163.0</td>\n",
       "      <td>66.0</td>\n",
       "      <td>11</td>\n",
       "      <td>159.0</td>\n",
       "      <td>43.0</td>\n",
       "      <td>20.0</td>\n",
       "      <td>159</td>\n",
       "      <td>173.0</td>\n",
       "      <td>368.0</td>\n",
       "      <td>176.0</td>\n",
       "      <td>72.0</td>\n",
       "      <td>1.0</td>\n",
       "      <td>20.0</td>\n",
       "      <td>186.0</td>\n",
       "      <td>197</td>\n",
       "      <td>van</td>\n",
       "    </tr>\n",
       "    <tr>\n",
       "      <th>843</th>\n",
       "      <td>106</td>\n",
       "      <td>54.0</td>\n",
       "      <td>101.0</td>\n",
       "      <td>222.0</td>\n",
       "      <td>67.0</td>\n",
       "      <td>12</td>\n",
       "      <td>222.0</td>\n",
       "      <td>30.0</td>\n",
       "      <td>25.0</td>\n",
       "      <td>173</td>\n",
       "      <td>228.0</td>\n",
       "      <td>721.0</td>\n",
       "      <td>200.0</td>\n",
       "      <td>70.0</td>\n",
       "      <td>3.0</td>\n",
       "      <td>4.0</td>\n",
       "      <td>187.0</td>\n",
       "      <td>201</td>\n",
       "      <td>car</td>\n",
       "    </tr>\n",
       "    <tr>\n",
       "      <th>844</th>\n",
       "      <td>86</td>\n",
       "      <td>36.0</td>\n",
       "      <td>78.0</td>\n",
       "      <td>146.0</td>\n",
       "      <td>58.0</td>\n",
       "      <td>7</td>\n",
       "      <td>135.0</td>\n",
       "      <td>50.0</td>\n",
       "      <td>18.0</td>\n",
       "      <td>124</td>\n",
       "      <td>155.0</td>\n",
       "      <td>270.0</td>\n",
       "      <td>148.0</td>\n",
       "      <td>66.0</td>\n",
       "      <td>0.0</td>\n",
       "      <td>25.0</td>\n",
       "      <td>190.0</td>\n",
       "      <td>195</td>\n",
       "      <td>car</td>\n",
       "    </tr>\n",
       "    <tr>\n",
       "      <th>845</th>\n",
       "      <td>85</td>\n",
       "      <td>36.0</td>\n",
       "      <td>66.0</td>\n",
       "      <td>123.0</td>\n",
       "      <td>55.0</td>\n",
       "      <td>5</td>\n",
       "      <td>120.0</td>\n",
       "      <td>56.0</td>\n",
       "      <td>17.0</td>\n",
       "      <td>128</td>\n",
       "      <td>140.0</td>\n",
       "      <td>212.0</td>\n",
       "      <td>131.0</td>\n",
       "      <td>73.0</td>\n",
       "      <td>1.0</td>\n",
       "      <td>18.0</td>\n",
       "      <td>186.0</td>\n",
       "      <td>190</td>\n",
       "      <td>van</td>\n",
       "    </tr>\n",
       "  </tbody>\n",
       "</table>\n",
       "</div>"
      ],
      "text/plain": [
       "     compactness  circularity  distance_circularity  radius_ratio  \\\n",
       "841           93         39.0                  87.0         183.0   \n",
       "842           89         46.0                  84.0         163.0   \n",
       "843          106         54.0                 101.0         222.0   \n",
       "844           86         36.0                  78.0         146.0   \n",
       "845           85         36.0                  66.0         123.0   \n",
       "\n",
       "     pr.axis_aspect_ratio  max.length_aspect_ratio  scatter_ratio  \\\n",
       "841                  64.0                        8          169.0   \n",
       "842                  66.0                       11          159.0   \n",
       "843                  67.0                       12          222.0   \n",
       "844                  58.0                        7          135.0   \n",
       "845                  55.0                        5          120.0   \n",
       "\n",
       "     elongatedness  pr.axis_rectangularity  max.length_rectangularity  \\\n",
       "841           40.0                    20.0                        134   \n",
       "842           43.0                    20.0                        159   \n",
       "843           30.0                    25.0                        173   \n",
       "844           50.0                    18.0                        124   \n",
       "845           56.0                    17.0                        128   \n",
       "\n",
       "     scaled_variance  scaled_variance.1  scaled_radius_of_gyration  \\\n",
       "841            200.0              422.0                      149.0   \n",
       "842            173.0              368.0                      176.0   \n",
       "843            228.0              721.0                      200.0   \n",
       "844            155.0              270.0                      148.0   \n",
       "845            140.0              212.0                      131.0   \n",
       "\n",
       "     scaled_radius_of_gyration.1  skewness_about  skewness_about.1  \\\n",
       "841                         72.0             7.0              25.0   \n",
       "842                         72.0             1.0              20.0   \n",
       "843                         70.0             3.0               4.0   \n",
       "844                         66.0             0.0              25.0   \n",
       "845                         73.0             1.0              18.0   \n",
       "\n",
       "     skewness_about.2  hollows_ratio class  \n",
       "841             188.0            195   car  \n",
       "842             186.0            197   van  \n",
       "843             187.0            201   car  \n",
       "844             190.0            195   car  \n",
       "845             186.0            190   van  "
      ]
     },
     "execution_count": 4,
     "metadata": {},
     "output_type": "execute_result"
    }
   ],
   "source": [
    "df.tail(5)"
   ]
  },
  {
   "cell_type": "code",
   "execution_count": 5,
   "metadata": {},
   "outputs": [
    {
     "data": {
      "text/plain": [
       "compactness                      int64\n",
       "circularity                    float64\n",
       "distance_circularity           float64\n",
       "radius_ratio                   float64\n",
       "pr.axis_aspect_ratio           float64\n",
       "max.length_aspect_ratio          int64\n",
       "scatter_ratio                  float64\n",
       "elongatedness                  float64\n",
       "pr.axis_rectangularity         float64\n",
       "max.length_rectangularity        int64\n",
       "scaled_variance                float64\n",
       "scaled_variance.1              float64\n",
       "scaled_radius_of_gyration      float64\n",
       "scaled_radius_of_gyration.1    float64\n",
       "skewness_about                 float64\n",
       "skewness_about.1               float64\n",
       "skewness_about.2               float64\n",
       "hollows_ratio                    int64\n",
       "class                           object\n",
       "dtype: object"
      ]
     },
     "execution_count": 5,
     "metadata": {},
     "output_type": "execute_result"
    }
   ],
   "source": [
    "df.dtypes"
   ]
  },
  {
   "cell_type": "code",
   "execution_count": 6,
   "metadata": {},
   "outputs": [
    {
     "name": "stdout",
     "output_type": "stream",
     "text": [
      "<class 'pandas.core.frame.DataFrame'>\n",
      "RangeIndex: 846 entries, 0 to 845\n",
      "Data columns (total 19 columns):\n",
      " #   Column                       Non-Null Count  Dtype  \n",
      "---  ------                       --------------  -----  \n",
      " 0   compactness                  846 non-null    int64  \n",
      " 1   circularity                  841 non-null    float64\n",
      " 2   distance_circularity         842 non-null    float64\n",
      " 3   radius_ratio                 840 non-null    float64\n",
      " 4   pr.axis_aspect_ratio         844 non-null    float64\n",
      " 5   max.length_aspect_ratio      846 non-null    int64  \n",
      " 6   scatter_ratio                845 non-null    float64\n",
      " 7   elongatedness                845 non-null    float64\n",
      " 8   pr.axis_rectangularity       843 non-null    float64\n",
      " 9   max.length_rectangularity    846 non-null    int64  \n",
      " 10  scaled_variance              843 non-null    float64\n",
      " 11  scaled_variance.1            844 non-null    float64\n",
      " 12  scaled_radius_of_gyration    844 non-null    float64\n",
      " 13  scaled_radius_of_gyration.1  842 non-null    float64\n",
      " 14  skewness_about               840 non-null    float64\n",
      " 15  skewness_about.1             845 non-null    float64\n",
      " 16  skewness_about.2             845 non-null    float64\n",
      " 17  hollows_ratio                846 non-null    int64  \n",
      " 18  class                        846 non-null    object \n",
      "dtypes: float64(14), int64(4), object(1)\n",
      "memory usage: 125.7+ KB\n"
     ]
    }
   ],
   "source": [
    "df.info()"
   ]
  },
  {
   "cell_type": "code",
   "execution_count": 7,
   "metadata": {},
   "outputs": [
    {
     "data": {
      "text/html": [
       "<div>\n",
       "<style scoped>\n",
       "    .dataframe tbody tr th:only-of-type {\n",
       "        vertical-align: middle;\n",
       "    }\n",
       "\n",
       "    .dataframe tbody tr th {\n",
       "        vertical-align: top;\n",
       "    }\n",
       "\n",
       "    .dataframe thead th {\n",
       "        text-align: right;\n",
       "    }\n",
       "</style>\n",
       "<table border=\"1\" class=\"dataframe\">\n",
       "  <thead>\n",
       "    <tr style=\"text-align: right;\">\n",
       "      <th></th>\n",
       "      <th>compactness</th>\n",
       "      <th>circularity</th>\n",
       "      <th>distance_circularity</th>\n",
       "      <th>radius_ratio</th>\n",
       "      <th>pr.axis_aspect_ratio</th>\n",
       "      <th>max.length_aspect_ratio</th>\n",
       "      <th>scatter_ratio</th>\n",
       "      <th>elongatedness</th>\n",
       "      <th>pr.axis_rectangularity</th>\n",
       "      <th>max.length_rectangularity</th>\n",
       "      <th>scaled_variance</th>\n",
       "      <th>scaled_variance.1</th>\n",
       "      <th>scaled_radius_of_gyration</th>\n",
       "      <th>scaled_radius_of_gyration.1</th>\n",
       "      <th>skewness_about</th>\n",
       "      <th>skewness_about.1</th>\n",
       "      <th>skewness_about.2</th>\n",
       "      <th>hollows_ratio</th>\n",
       "    </tr>\n",
       "  </thead>\n",
       "  <tbody>\n",
       "    <tr>\n",
       "      <th>count</th>\n",
       "      <td>846.000000</td>\n",
       "      <td>841.000000</td>\n",
       "      <td>842.000000</td>\n",
       "      <td>840.000000</td>\n",
       "      <td>844.000000</td>\n",
       "      <td>846.000000</td>\n",
       "      <td>845.000000</td>\n",
       "      <td>845.000000</td>\n",
       "      <td>843.000000</td>\n",
       "      <td>846.000000</td>\n",
       "      <td>843.000000</td>\n",
       "      <td>844.000000</td>\n",
       "      <td>844.000000</td>\n",
       "      <td>842.000000</td>\n",
       "      <td>840.000000</td>\n",
       "      <td>845.000000</td>\n",
       "      <td>845.000000</td>\n",
       "      <td>846.000000</td>\n",
       "    </tr>\n",
       "    <tr>\n",
       "      <th>mean</th>\n",
       "      <td>93.678487</td>\n",
       "      <td>44.828775</td>\n",
       "      <td>82.110451</td>\n",
       "      <td>168.888095</td>\n",
       "      <td>61.678910</td>\n",
       "      <td>8.567376</td>\n",
       "      <td>168.901775</td>\n",
       "      <td>40.933728</td>\n",
       "      <td>20.582444</td>\n",
       "      <td>147.998818</td>\n",
       "      <td>188.631079</td>\n",
       "      <td>439.494076</td>\n",
       "      <td>174.709716</td>\n",
       "      <td>72.447743</td>\n",
       "      <td>6.364286</td>\n",
       "      <td>12.602367</td>\n",
       "      <td>188.919527</td>\n",
       "      <td>195.632388</td>\n",
       "    </tr>\n",
       "    <tr>\n",
       "      <th>std</th>\n",
       "      <td>8.234474</td>\n",
       "      <td>6.152172</td>\n",
       "      <td>15.778292</td>\n",
       "      <td>33.520198</td>\n",
       "      <td>7.891463</td>\n",
       "      <td>4.601217</td>\n",
       "      <td>33.214848</td>\n",
       "      <td>7.816186</td>\n",
       "      <td>2.592933</td>\n",
       "      <td>14.515652</td>\n",
       "      <td>31.411004</td>\n",
       "      <td>176.666903</td>\n",
       "      <td>32.584808</td>\n",
       "      <td>7.486190</td>\n",
       "      <td>4.920649</td>\n",
       "      <td>8.936081</td>\n",
       "      <td>6.155809</td>\n",
       "      <td>7.438797</td>\n",
       "    </tr>\n",
       "    <tr>\n",
       "      <th>min</th>\n",
       "      <td>73.000000</td>\n",
       "      <td>33.000000</td>\n",
       "      <td>40.000000</td>\n",
       "      <td>104.000000</td>\n",
       "      <td>47.000000</td>\n",
       "      <td>2.000000</td>\n",
       "      <td>112.000000</td>\n",
       "      <td>26.000000</td>\n",
       "      <td>17.000000</td>\n",
       "      <td>118.000000</td>\n",
       "      <td>130.000000</td>\n",
       "      <td>184.000000</td>\n",
       "      <td>109.000000</td>\n",
       "      <td>59.000000</td>\n",
       "      <td>0.000000</td>\n",
       "      <td>0.000000</td>\n",
       "      <td>176.000000</td>\n",
       "      <td>181.000000</td>\n",
       "    </tr>\n",
       "    <tr>\n",
       "      <th>25%</th>\n",
       "      <td>87.000000</td>\n",
       "      <td>40.000000</td>\n",
       "      <td>70.000000</td>\n",
       "      <td>141.000000</td>\n",
       "      <td>57.000000</td>\n",
       "      <td>7.000000</td>\n",
       "      <td>147.000000</td>\n",
       "      <td>33.000000</td>\n",
       "      <td>19.000000</td>\n",
       "      <td>137.000000</td>\n",
       "      <td>167.000000</td>\n",
       "      <td>318.000000</td>\n",
       "      <td>149.000000</td>\n",
       "      <td>67.000000</td>\n",
       "      <td>2.000000</td>\n",
       "      <td>5.000000</td>\n",
       "      <td>184.000000</td>\n",
       "      <td>190.250000</td>\n",
       "    </tr>\n",
       "    <tr>\n",
       "      <th>50%</th>\n",
       "      <td>93.000000</td>\n",
       "      <td>44.000000</td>\n",
       "      <td>80.000000</td>\n",
       "      <td>167.000000</td>\n",
       "      <td>61.000000</td>\n",
       "      <td>8.000000</td>\n",
       "      <td>157.000000</td>\n",
       "      <td>43.000000</td>\n",
       "      <td>20.000000</td>\n",
       "      <td>146.000000</td>\n",
       "      <td>179.000000</td>\n",
       "      <td>363.500000</td>\n",
       "      <td>173.500000</td>\n",
       "      <td>71.500000</td>\n",
       "      <td>6.000000</td>\n",
       "      <td>11.000000</td>\n",
       "      <td>188.000000</td>\n",
       "      <td>197.000000</td>\n",
       "    </tr>\n",
       "    <tr>\n",
       "      <th>75%</th>\n",
       "      <td>100.000000</td>\n",
       "      <td>49.000000</td>\n",
       "      <td>98.000000</td>\n",
       "      <td>195.000000</td>\n",
       "      <td>65.000000</td>\n",
       "      <td>10.000000</td>\n",
       "      <td>198.000000</td>\n",
       "      <td>46.000000</td>\n",
       "      <td>23.000000</td>\n",
       "      <td>159.000000</td>\n",
       "      <td>217.000000</td>\n",
       "      <td>587.000000</td>\n",
       "      <td>198.000000</td>\n",
       "      <td>75.000000</td>\n",
       "      <td>9.000000</td>\n",
       "      <td>19.000000</td>\n",
       "      <td>193.000000</td>\n",
       "      <td>201.000000</td>\n",
       "    </tr>\n",
       "    <tr>\n",
       "      <th>max</th>\n",
       "      <td>119.000000</td>\n",
       "      <td>59.000000</td>\n",
       "      <td>112.000000</td>\n",
       "      <td>333.000000</td>\n",
       "      <td>138.000000</td>\n",
       "      <td>55.000000</td>\n",
       "      <td>265.000000</td>\n",
       "      <td>61.000000</td>\n",
       "      <td>29.000000</td>\n",
       "      <td>188.000000</td>\n",
       "      <td>320.000000</td>\n",
       "      <td>1018.000000</td>\n",
       "      <td>268.000000</td>\n",
       "      <td>135.000000</td>\n",
       "      <td>22.000000</td>\n",
       "      <td>41.000000</td>\n",
       "      <td>206.000000</td>\n",
       "      <td>211.000000</td>\n",
       "    </tr>\n",
       "  </tbody>\n",
       "</table>\n",
       "</div>"
      ],
      "text/plain": [
       "       compactness  circularity  distance_circularity  radius_ratio  \\\n",
       "count   846.000000   841.000000            842.000000    840.000000   \n",
       "mean     93.678487    44.828775             82.110451    168.888095   \n",
       "std       8.234474     6.152172             15.778292     33.520198   \n",
       "min      73.000000    33.000000             40.000000    104.000000   \n",
       "25%      87.000000    40.000000             70.000000    141.000000   \n",
       "50%      93.000000    44.000000             80.000000    167.000000   \n",
       "75%     100.000000    49.000000             98.000000    195.000000   \n",
       "max     119.000000    59.000000            112.000000    333.000000   \n",
       "\n",
       "       pr.axis_aspect_ratio  max.length_aspect_ratio  scatter_ratio  \\\n",
       "count            844.000000               846.000000     845.000000   \n",
       "mean              61.678910                 8.567376     168.901775   \n",
       "std                7.891463                 4.601217      33.214848   \n",
       "min               47.000000                 2.000000     112.000000   \n",
       "25%               57.000000                 7.000000     147.000000   \n",
       "50%               61.000000                 8.000000     157.000000   \n",
       "75%               65.000000                10.000000     198.000000   \n",
       "max              138.000000                55.000000     265.000000   \n",
       "\n",
       "       elongatedness  pr.axis_rectangularity  max.length_rectangularity  \\\n",
       "count     845.000000              843.000000                 846.000000   \n",
       "mean       40.933728               20.582444                 147.998818   \n",
       "std         7.816186                2.592933                  14.515652   \n",
       "min        26.000000               17.000000                 118.000000   \n",
       "25%        33.000000               19.000000                 137.000000   \n",
       "50%        43.000000               20.000000                 146.000000   \n",
       "75%        46.000000               23.000000                 159.000000   \n",
       "max        61.000000               29.000000                 188.000000   \n",
       "\n",
       "       scaled_variance  scaled_variance.1  scaled_radius_of_gyration  \\\n",
       "count       843.000000         844.000000                 844.000000   \n",
       "mean        188.631079         439.494076                 174.709716   \n",
       "std          31.411004         176.666903                  32.584808   \n",
       "min         130.000000         184.000000                 109.000000   \n",
       "25%         167.000000         318.000000                 149.000000   \n",
       "50%         179.000000         363.500000                 173.500000   \n",
       "75%         217.000000         587.000000                 198.000000   \n",
       "max         320.000000        1018.000000                 268.000000   \n",
       "\n",
       "       scaled_radius_of_gyration.1  skewness_about  skewness_about.1  \\\n",
       "count                   842.000000      840.000000        845.000000   \n",
       "mean                     72.447743        6.364286         12.602367   \n",
       "std                       7.486190        4.920649          8.936081   \n",
       "min                      59.000000        0.000000          0.000000   \n",
       "25%                      67.000000        2.000000          5.000000   \n",
       "50%                      71.500000        6.000000         11.000000   \n",
       "75%                      75.000000        9.000000         19.000000   \n",
       "max                     135.000000       22.000000         41.000000   \n",
       "\n",
       "       skewness_about.2  hollows_ratio  \n",
       "count        845.000000     846.000000  \n",
       "mean         188.919527     195.632388  \n",
       "std            6.155809       7.438797  \n",
       "min          176.000000     181.000000  \n",
       "25%          184.000000     190.250000  \n",
       "50%          188.000000     197.000000  \n",
       "75%          193.000000     201.000000  \n",
       "max          206.000000     211.000000  "
      ]
     },
     "execution_count": 7,
     "metadata": {},
     "output_type": "execute_result"
    }
   ],
   "source": [
    "df.describe()"
   ]
  },
  {
   "cell_type": "code",
   "execution_count": 8,
   "metadata": {},
   "outputs": [
    {
     "data": {
      "text/plain": [
       "(846, 19)"
      ]
     },
     "execution_count": 8,
     "metadata": {},
     "output_type": "execute_result"
    }
   ],
   "source": [
    "df.shape"
   ]
  },
  {
   "cell_type": "markdown",
   "metadata": {},
   "source": [
    "<h2>Data PreProcessing</h2>"
   ]
  },
  {
   "cell_type": "markdown",
   "metadata": {},
   "source": [
    "To identify whether null values are present in the dataset"
   ]
  },
  {
   "cell_type": "code",
   "execution_count": 9,
   "metadata": {},
   "outputs": [
    {
     "data": {
      "text/html": [
       "<div>\n",
       "<style scoped>\n",
       "    .dataframe tbody tr th:only-of-type {\n",
       "        vertical-align: middle;\n",
       "    }\n",
       "\n",
       "    .dataframe tbody tr th {\n",
       "        vertical-align: top;\n",
       "    }\n",
       "\n",
       "    .dataframe thead th {\n",
       "        text-align: right;\n",
       "    }\n",
       "</style>\n",
       "<table border=\"1\" class=\"dataframe\">\n",
       "  <thead>\n",
       "    <tr style=\"text-align: right;\">\n",
       "      <th></th>\n",
       "      <th>compactness</th>\n",
       "      <th>circularity</th>\n",
       "      <th>distance_circularity</th>\n",
       "      <th>radius_ratio</th>\n",
       "      <th>pr.axis_aspect_ratio</th>\n",
       "      <th>max.length_aspect_ratio</th>\n",
       "      <th>scatter_ratio</th>\n",
       "      <th>elongatedness</th>\n",
       "      <th>pr.axis_rectangularity</th>\n",
       "      <th>max.length_rectangularity</th>\n",
       "      <th>scaled_variance</th>\n",
       "      <th>scaled_variance.1</th>\n",
       "      <th>scaled_radius_of_gyration</th>\n",
       "      <th>scaled_radius_of_gyration.1</th>\n",
       "      <th>skewness_about</th>\n",
       "      <th>skewness_about.1</th>\n",
       "      <th>skewness_about.2</th>\n",
       "      <th>hollows_ratio</th>\n",
       "      <th>class</th>\n",
       "    </tr>\n",
       "  </thead>\n",
       "  <tbody>\n",
       "    <tr>\n",
       "      <th>0</th>\n",
       "      <td>False</td>\n",
       "      <td>False</td>\n",
       "      <td>False</td>\n",
       "      <td>False</td>\n",
       "      <td>False</td>\n",
       "      <td>False</td>\n",
       "      <td>False</td>\n",
       "      <td>False</td>\n",
       "      <td>False</td>\n",
       "      <td>False</td>\n",
       "      <td>False</td>\n",
       "      <td>False</td>\n",
       "      <td>False</td>\n",
       "      <td>False</td>\n",
       "      <td>False</td>\n",
       "      <td>False</td>\n",
       "      <td>False</td>\n",
       "      <td>False</td>\n",
       "      <td>False</td>\n",
       "    </tr>\n",
       "    <tr>\n",
       "      <th>1</th>\n",
       "      <td>False</td>\n",
       "      <td>False</td>\n",
       "      <td>False</td>\n",
       "      <td>False</td>\n",
       "      <td>False</td>\n",
       "      <td>False</td>\n",
       "      <td>False</td>\n",
       "      <td>False</td>\n",
       "      <td>False</td>\n",
       "      <td>False</td>\n",
       "      <td>False</td>\n",
       "      <td>False</td>\n",
       "      <td>False</td>\n",
       "      <td>False</td>\n",
       "      <td>False</td>\n",
       "      <td>False</td>\n",
       "      <td>False</td>\n",
       "      <td>False</td>\n",
       "      <td>False</td>\n",
       "    </tr>\n",
       "    <tr>\n",
       "      <th>2</th>\n",
       "      <td>False</td>\n",
       "      <td>False</td>\n",
       "      <td>False</td>\n",
       "      <td>False</td>\n",
       "      <td>False</td>\n",
       "      <td>False</td>\n",
       "      <td>False</td>\n",
       "      <td>False</td>\n",
       "      <td>False</td>\n",
       "      <td>False</td>\n",
       "      <td>False</td>\n",
       "      <td>False</td>\n",
       "      <td>False</td>\n",
       "      <td>False</td>\n",
       "      <td>False</td>\n",
       "      <td>False</td>\n",
       "      <td>False</td>\n",
       "      <td>False</td>\n",
       "      <td>False</td>\n",
       "    </tr>\n",
       "    <tr>\n",
       "      <th>3</th>\n",
       "      <td>False</td>\n",
       "      <td>False</td>\n",
       "      <td>False</td>\n",
       "      <td>False</td>\n",
       "      <td>False</td>\n",
       "      <td>False</td>\n",
       "      <td>False</td>\n",
       "      <td>False</td>\n",
       "      <td>False</td>\n",
       "      <td>False</td>\n",
       "      <td>False</td>\n",
       "      <td>False</td>\n",
       "      <td>False</td>\n",
       "      <td>False</td>\n",
       "      <td>False</td>\n",
       "      <td>False</td>\n",
       "      <td>False</td>\n",
       "      <td>False</td>\n",
       "      <td>False</td>\n",
       "    </tr>\n",
       "    <tr>\n",
       "      <th>4</th>\n",
       "      <td>False</td>\n",
       "      <td>False</td>\n",
       "      <td>False</td>\n",
       "      <td>False</td>\n",
       "      <td>False</td>\n",
       "      <td>False</td>\n",
       "      <td>False</td>\n",
       "      <td>False</td>\n",
       "      <td>False</td>\n",
       "      <td>False</td>\n",
       "      <td>False</td>\n",
       "      <td>False</td>\n",
       "      <td>False</td>\n",
       "      <td>False</td>\n",
       "      <td>False</td>\n",
       "      <td>False</td>\n",
       "      <td>False</td>\n",
       "      <td>False</td>\n",
       "      <td>False</td>\n",
       "    </tr>\n",
       "    <tr>\n",
       "      <th>...</th>\n",
       "      <td>...</td>\n",
       "      <td>...</td>\n",
       "      <td>...</td>\n",
       "      <td>...</td>\n",
       "      <td>...</td>\n",
       "      <td>...</td>\n",
       "      <td>...</td>\n",
       "      <td>...</td>\n",
       "      <td>...</td>\n",
       "      <td>...</td>\n",
       "      <td>...</td>\n",
       "      <td>...</td>\n",
       "      <td>...</td>\n",
       "      <td>...</td>\n",
       "      <td>...</td>\n",
       "      <td>...</td>\n",
       "      <td>...</td>\n",
       "      <td>...</td>\n",
       "      <td>...</td>\n",
       "    </tr>\n",
       "    <tr>\n",
       "      <th>841</th>\n",
       "      <td>False</td>\n",
       "      <td>False</td>\n",
       "      <td>False</td>\n",
       "      <td>False</td>\n",
       "      <td>False</td>\n",
       "      <td>False</td>\n",
       "      <td>False</td>\n",
       "      <td>False</td>\n",
       "      <td>False</td>\n",
       "      <td>False</td>\n",
       "      <td>False</td>\n",
       "      <td>False</td>\n",
       "      <td>False</td>\n",
       "      <td>False</td>\n",
       "      <td>False</td>\n",
       "      <td>False</td>\n",
       "      <td>False</td>\n",
       "      <td>False</td>\n",
       "      <td>False</td>\n",
       "    </tr>\n",
       "    <tr>\n",
       "      <th>842</th>\n",
       "      <td>False</td>\n",
       "      <td>False</td>\n",
       "      <td>False</td>\n",
       "      <td>False</td>\n",
       "      <td>False</td>\n",
       "      <td>False</td>\n",
       "      <td>False</td>\n",
       "      <td>False</td>\n",
       "      <td>False</td>\n",
       "      <td>False</td>\n",
       "      <td>False</td>\n",
       "      <td>False</td>\n",
       "      <td>False</td>\n",
       "      <td>False</td>\n",
       "      <td>False</td>\n",
       "      <td>False</td>\n",
       "      <td>False</td>\n",
       "      <td>False</td>\n",
       "      <td>False</td>\n",
       "    </tr>\n",
       "    <tr>\n",
       "      <th>843</th>\n",
       "      <td>False</td>\n",
       "      <td>False</td>\n",
       "      <td>False</td>\n",
       "      <td>False</td>\n",
       "      <td>False</td>\n",
       "      <td>False</td>\n",
       "      <td>False</td>\n",
       "      <td>False</td>\n",
       "      <td>False</td>\n",
       "      <td>False</td>\n",
       "      <td>False</td>\n",
       "      <td>False</td>\n",
       "      <td>False</td>\n",
       "      <td>False</td>\n",
       "      <td>False</td>\n",
       "      <td>False</td>\n",
       "      <td>False</td>\n",
       "      <td>False</td>\n",
       "      <td>False</td>\n",
       "    </tr>\n",
       "    <tr>\n",
       "      <th>844</th>\n",
       "      <td>False</td>\n",
       "      <td>False</td>\n",
       "      <td>False</td>\n",
       "      <td>False</td>\n",
       "      <td>False</td>\n",
       "      <td>False</td>\n",
       "      <td>False</td>\n",
       "      <td>False</td>\n",
       "      <td>False</td>\n",
       "      <td>False</td>\n",
       "      <td>False</td>\n",
       "      <td>False</td>\n",
       "      <td>False</td>\n",
       "      <td>False</td>\n",
       "      <td>False</td>\n",
       "      <td>False</td>\n",
       "      <td>False</td>\n",
       "      <td>False</td>\n",
       "      <td>False</td>\n",
       "    </tr>\n",
       "    <tr>\n",
       "      <th>845</th>\n",
       "      <td>False</td>\n",
       "      <td>False</td>\n",
       "      <td>False</td>\n",
       "      <td>False</td>\n",
       "      <td>False</td>\n",
       "      <td>False</td>\n",
       "      <td>False</td>\n",
       "      <td>False</td>\n",
       "      <td>False</td>\n",
       "      <td>False</td>\n",
       "      <td>False</td>\n",
       "      <td>False</td>\n",
       "      <td>False</td>\n",
       "      <td>False</td>\n",
       "      <td>False</td>\n",
       "      <td>False</td>\n",
       "      <td>False</td>\n",
       "      <td>False</td>\n",
       "      <td>False</td>\n",
       "    </tr>\n",
       "  </tbody>\n",
       "</table>\n",
       "<p>846 rows × 19 columns</p>\n",
       "</div>"
      ],
      "text/plain": [
       "     compactness  circularity  distance_circularity  radius_ratio  \\\n",
       "0          False        False                 False         False   \n",
       "1          False        False                 False         False   \n",
       "2          False        False                 False         False   \n",
       "3          False        False                 False         False   \n",
       "4          False        False                 False         False   \n",
       "..           ...          ...                   ...           ...   \n",
       "841        False        False                 False         False   \n",
       "842        False        False                 False         False   \n",
       "843        False        False                 False         False   \n",
       "844        False        False                 False         False   \n",
       "845        False        False                 False         False   \n",
       "\n",
       "     pr.axis_aspect_ratio  max.length_aspect_ratio  scatter_ratio  \\\n",
       "0                   False                    False          False   \n",
       "1                   False                    False          False   \n",
       "2                   False                    False          False   \n",
       "3                   False                    False          False   \n",
       "4                   False                    False          False   \n",
       "..                    ...                      ...            ...   \n",
       "841                 False                    False          False   \n",
       "842                 False                    False          False   \n",
       "843                 False                    False          False   \n",
       "844                 False                    False          False   \n",
       "845                 False                    False          False   \n",
       "\n",
       "     elongatedness  pr.axis_rectangularity  max.length_rectangularity  \\\n",
       "0            False                   False                      False   \n",
       "1            False                   False                      False   \n",
       "2            False                   False                      False   \n",
       "3            False                   False                      False   \n",
       "4            False                   False                      False   \n",
       "..             ...                     ...                        ...   \n",
       "841          False                   False                      False   \n",
       "842          False                   False                      False   \n",
       "843          False                   False                      False   \n",
       "844          False                   False                      False   \n",
       "845          False                   False                      False   \n",
       "\n",
       "     scaled_variance  scaled_variance.1  scaled_radius_of_gyration  \\\n",
       "0              False              False                      False   \n",
       "1              False              False                      False   \n",
       "2              False              False                      False   \n",
       "3              False              False                      False   \n",
       "4              False              False                      False   \n",
       "..               ...                ...                        ...   \n",
       "841            False              False                      False   \n",
       "842            False              False                      False   \n",
       "843            False              False                      False   \n",
       "844            False              False                      False   \n",
       "845            False              False                      False   \n",
       "\n",
       "     scaled_radius_of_gyration.1  skewness_about  skewness_about.1  \\\n",
       "0                          False           False             False   \n",
       "1                          False           False             False   \n",
       "2                          False           False             False   \n",
       "3                          False           False             False   \n",
       "4                          False           False             False   \n",
       "..                           ...             ...               ...   \n",
       "841                        False           False             False   \n",
       "842                        False           False             False   \n",
       "843                        False           False             False   \n",
       "844                        False           False             False   \n",
       "845                        False           False             False   \n",
       "\n",
       "     skewness_about.2  hollows_ratio  class  \n",
       "0               False          False  False  \n",
       "1               False          False  False  \n",
       "2               False          False  False  \n",
       "3               False          False  False  \n",
       "4               False          False  False  \n",
       "..                ...            ...    ...  \n",
       "841             False          False  False  \n",
       "842             False          False  False  \n",
       "843             False          False  False  \n",
       "844             False          False  False  \n",
       "845             False          False  False  \n",
       "\n",
       "[846 rows x 19 columns]"
      ]
     },
     "execution_count": 9,
     "metadata": {},
     "output_type": "execute_result"
    }
   ],
   "source": [
    "df.isnull()"
   ]
  },
  {
   "cell_type": "code",
   "execution_count": 10,
   "metadata": {},
   "outputs": [
    {
     "data": {
      "text/plain": [
       "compactness                    0\n",
       "circularity                    5\n",
       "distance_circularity           4\n",
       "radius_ratio                   6\n",
       "pr.axis_aspect_ratio           2\n",
       "max.length_aspect_ratio        0\n",
       "scatter_ratio                  1\n",
       "elongatedness                  1\n",
       "pr.axis_rectangularity         3\n",
       "max.length_rectangularity      0\n",
       "scaled_variance                3\n",
       "scaled_variance.1              2\n",
       "scaled_radius_of_gyration      2\n",
       "scaled_radius_of_gyration.1    4\n",
       "skewness_about                 6\n",
       "skewness_about.1               1\n",
       "skewness_about.2               1\n",
       "hollows_ratio                  0\n",
       "class                          0\n",
       "dtype: int64"
      ]
     },
     "execution_count": 10,
     "metadata": {},
     "output_type": "execute_result"
    }
   ],
   "source": [
    "df.isnull().sum()"
   ]
  },
  {
   "cell_type": "markdown",
   "metadata": {},
   "source": [
    "We can either replace the null values with the mean of the column or delete the rows in which null values are present"
   ]
  },
  {
   "cell_type": "code",
   "execution_count": 11,
   "metadata": {},
   "outputs": [
    {
     "data": {
      "text/plain": [
       "compactness                    0\n",
       "circularity                    0\n",
       "distance_circularity           0\n",
       "radius_ratio                   0\n",
       "pr.axis_aspect_ratio           0\n",
       "max.length_aspect_ratio        0\n",
       "scatter_ratio                  0\n",
       "elongatedness                  0\n",
       "pr.axis_rectangularity         0\n",
       "max.length_rectangularity      0\n",
       "scaled_variance                0\n",
       "scaled_variance.1              0\n",
       "scaled_radius_of_gyration      0\n",
       "scaled_radius_of_gyration.1    0\n",
       "skewness_about                 0\n",
       "skewness_about.1               0\n",
       "skewness_about.2               0\n",
       "hollows_ratio                  0\n",
       "class                          0\n",
       "dtype: int64"
      ]
     },
     "execution_count": 11,
     "metadata": {},
     "output_type": "execute_result"
    }
   ],
   "source": [
    "df.fillna(df.mean(), axis = 0, inplace = True)\n",
    "df.isnull().sum()"
   ]
  },
  {
   "cell_type": "markdown",
   "metadata": {},
   "source": [
    "<h2>Exploratory Data Analysis</h2>"
   ]
  },
  {
   "cell_type": "markdown",
   "metadata": {},
   "source": [
    "Inferences:\n",
    "\n",
    "1.Spread of compactness is least for van. mean compactness is highest for car. For Bus compactness is right skewed indicating that less number of buses have high compactness.\n",
    "\n",
    "2.Mean circularity is higher for cars.\n",
    "\n",
    "3.Mean distance_circularity is also higher for cars\n",
    "\n",
    "4.Mean radius_ratio is higher for cars, followed by Bus. It is least for vans\n",
    "\n",
    "5.pr.axis_aspect_ratio is has almost same distribution for car, van and buses\n",
    "\n",
    "6.max.length_aspect_ratio is almost same for cars and vans, lower for buses\n",
    "\n",
    "7.Mean scatter ratio is highest for cars, followed by bus and van\n",
    "\n",
    "8.Mean elomngatedness is highest for vans folowed by bus and car\n",
    "\n",
    "9.pr.axis_rectangularity is highest for cars, followed by bus and then vans\n",
    "\n",
    "10.distribution of max.length_rectangularity is almost same for cars, bus and vans\n",
    "\n",
    "11.Mean scaled variance is highest for cars followed by bus then vans\n",
    "\n",
    "12.Mean scaled variance1 is highest for cars followed by bus then vans\n",
    "\n",
    "13.'scaled_radius_of_gyration', 'scaled_radius_of_gyration.1', 'skewness_about', 'skewness_about.1', 'skewness_about.2', have almost similar distribution for cars, buses and vans.\n",
    "\n",
    "14.'hollows_ratio' is lower for buses as compared to cars and vans\n",
    "Many columns have lonmg tails indicating outliers\n",
    "\n",
    "15.pr.axis_aspect ratio and radius ratio varies strongly +ve for van. for cars and buses it varies in small range- mostly cpuld like\n",
    "\n",
    "16.Scatter ratio & Scaled_variance1 has almost perfect positive linear relationship\n",
    "\n",
    "17.Many features show high correlation indicating that we need to drop multiple features- we will use PCA for the same"
   ]
  },
  {
   "cell_type": "code",
   "execution_count": 12,
   "metadata": {},
   "outputs": [
    {
     "data": {
      "text/html": [
       "<div>\n",
       "<style scoped>\n",
       "    .dataframe tbody tr th:only-of-type {\n",
       "        vertical-align: middle;\n",
       "    }\n",
       "\n",
       "    .dataframe tbody tr th {\n",
       "        vertical-align: top;\n",
       "    }\n",
       "\n",
       "    .dataframe thead th {\n",
       "        text-align: right;\n",
       "    }\n",
       "</style>\n",
       "<table border=\"1\" class=\"dataframe\">\n",
       "  <thead>\n",
       "    <tr style=\"text-align: right;\">\n",
       "      <th></th>\n",
       "      <th>compactness</th>\n",
       "      <th>circularity</th>\n",
       "      <th>distance_circularity</th>\n",
       "      <th>radius_ratio</th>\n",
       "      <th>pr.axis_aspect_ratio</th>\n",
       "      <th>max.length_aspect_ratio</th>\n",
       "      <th>scatter_ratio</th>\n",
       "      <th>elongatedness</th>\n",
       "      <th>pr.axis_rectangularity</th>\n",
       "      <th>max.length_rectangularity</th>\n",
       "      <th>scaled_variance</th>\n",
       "      <th>scaled_variance.1</th>\n",
       "      <th>scaled_radius_of_gyration</th>\n",
       "      <th>scaled_radius_of_gyration.1</th>\n",
       "      <th>skewness_about</th>\n",
       "      <th>skewness_about.1</th>\n",
       "      <th>skewness_about.2</th>\n",
       "      <th>hollows_ratio</th>\n",
       "    </tr>\n",
       "    <tr>\n",
       "      <th>class</th>\n",
       "      <th></th>\n",
       "      <th></th>\n",
       "      <th></th>\n",
       "      <th></th>\n",
       "      <th></th>\n",
       "      <th></th>\n",
       "      <th></th>\n",
       "      <th></th>\n",
       "      <th></th>\n",
       "      <th></th>\n",
       "      <th></th>\n",
       "      <th></th>\n",
       "      <th></th>\n",
       "      <th></th>\n",
       "      <th></th>\n",
       "      <th></th>\n",
       "      <th></th>\n",
       "      <th></th>\n",
       "    </tr>\n",
       "  </thead>\n",
       "  <tbody>\n",
       "    <tr>\n",
       "      <th>bus</th>\n",
       "      <td>218</td>\n",
       "      <td>218</td>\n",
       "      <td>218</td>\n",
       "      <td>218</td>\n",
       "      <td>218</td>\n",
       "      <td>218</td>\n",
       "      <td>218</td>\n",
       "      <td>218</td>\n",
       "      <td>218</td>\n",
       "      <td>218</td>\n",
       "      <td>218</td>\n",
       "      <td>218</td>\n",
       "      <td>218</td>\n",
       "      <td>218</td>\n",
       "      <td>218</td>\n",
       "      <td>218</td>\n",
       "      <td>218</td>\n",
       "      <td>218</td>\n",
       "    </tr>\n",
       "    <tr>\n",
       "      <th>car</th>\n",
       "      <td>429</td>\n",
       "      <td>429</td>\n",
       "      <td>429</td>\n",
       "      <td>429</td>\n",
       "      <td>429</td>\n",
       "      <td>429</td>\n",
       "      <td>429</td>\n",
       "      <td>429</td>\n",
       "      <td>429</td>\n",
       "      <td>429</td>\n",
       "      <td>429</td>\n",
       "      <td>429</td>\n",
       "      <td>429</td>\n",
       "      <td>429</td>\n",
       "      <td>429</td>\n",
       "      <td>429</td>\n",
       "      <td>429</td>\n",
       "      <td>429</td>\n",
       "    </tr>\n",
       "    <tr>\n",
       "      <th>van</th>\n",
       "      <td>199</td>\n",
       "      <td>199</td>\n",
       "      <td>199</td>\n",
       "      <td>199</td>\n",
       "      <td>199</td>\n",
       "      <td>199</td>\n",
       "      <td>199</td>\n",
       "      <td>199</td>\n",
       "      <td>199</td>\n",
       "      <td>199</td>\n",
       "      <td>199</td>\n",
       "      <td>199</td>\n",
       "      <td>199</td>\n",
       "      <td>199</td>\n",
       "      <td>199</td>\n",
       "      <td>199</td>\n",
       "      <td>199</td>\n",
       "      <td>199</td>\n",
       "    </tr>\n",
       "  </tbody>\n",
       "</table>\n",
       "</div>"
      ],
      "text/plain": [
       "       compactness  circularity  distance_circularity  radius_ratio  \\\n",
       "class                                                                 \n",
       "bus            218          218                   218           218   \n",
       "car            429          429                   429           429   \n",
       "van            199          199                   199           199   \n",
       "\n",
       "       pr.axis_aspect_ratio  max.length_aspect_ratio  scatter_ratio  \\\n",
       "class                                                                 \n",
       "bus                     218                      218            218   \n",
       "car                     429                      429            429   \n",
       "van                     199                      199            199   \n",
       "\n",
       "       elongatedness  pr.axis_rectangularity  max.length_rectangularity  \\\n",
       "class                                                                     \n",
       "bus              218                     218                        218   \n",
       "car              429                     429                        429   \n",
       "van              199                     199                        199   \n",
       "\n",
       "       scaled_variance  scaled_variance.1  scaled_radius_of_gyration  \\\n",
       "class                                                                  \n",
       "bus                218                218                        218   \n",
       "car                429                429                        429   \n",
       "van                199                199                        199   \n",
       "\n",
       "       scaled_radius_of_gyration.1  skewness_about  skewness_about.1  \\\n",
       "class                                                                  \n",
       "bus                            218             218               218   \n",
       "car                            429             429               429   \n",
       "van                            199             199               199   \n",
       "\n",
       "       skewness_about.2  hollows_ratio  \n",
       "class                                   \n",
       "bus                 218            218  \n",
       "car                 429            429  \n",
       "van                 199            199  "
      ]
     },
     "execution_count": 12,
     "metadata": {},
     "output_type": "execute_result"
    }
   ],
   "source": [
    "df.groupby('class').count()"
   ]
  },
  {
   "cell_type": "code",
   "execution_count": 13,
   "metadata": {},
   "outputs": [
    {
     "data": {
      "text/plain": [
       "car    429\n",
       "bus    218\n",
       "van    199\n",
       "Name: class, dtype: int64"
      ]
     },
     "execution_count": 13,
     "metadata": {},
     "output_type": "execute_result"
    }
   ],
   "source": [
    "df['class'].value_counts()"
   ]
  },
  {
   "cell_type": "markdown",
   "metadata": {},
   "source": [
    "Let us understand the correlation between the columns of the dataset"
   ]
  },
  {
   "cell_type": "code",
   "execution_count": 14,
   "metadata": {},
   "outputs": [
    {
     "data": {
      "text/html": [
       "<div>\n",
       "<style scoped>\n",
       "    .dataframe tbody tr th:only-of-type {\n",
       "        vertical-align: middle;\n",
       "    }\n",
       "\n",
       "    .dataframe tbody tr th {\n",
       "        vertical-align: top;\n",
       "    }\n",
       "\n",
       "    .dataframe thead th {\n",
       "        text-align: right;\n",
       "    }\n",
       "</style>\n",
       "<table border=\"1\" class=\"dataframe\">\n",
       "  <thead>\n",
       "    <tr style=\"text-align: right;\">\n",
       "      <th></th>\n",
       "      <th>compactness</th>\n",
       "      <th>circularity</th>\n",
       "      <th>distance_circularity</th>\n",
       "      <th>radius_ratio</th>\n",
       "      <th>pr.axis_aspect_ratio</th>\n",
       "      <th>max.length_aspect_ratio</th>\n",
       "      <th>scatter_ratio</th>\n",
       "      <th>elongatedness</th>\n",
       "      <th>pr.axis_rectangularity</th>\n",
       "      <th>max.length_rectangularity</th>\n",
       "      <th>scaled_variance</th>\n",
       "      <th>scaled_variance.1</th>\n",
       "      <th>scaled_radius_of_gyration</th>\n",
       "      <th>scaled_radius_of_gyration.1</th>\n",
       "      <th>skewness_about</th>\n",
       "      <th>skewness_about.1</th>\n",
       "      <th>skewness_about.2</th>\n",
       "      <th>hollows_ratio</th>\n",
       "    </tr>\n",
       "  </thead>\n",
       "  <tbody>\n",
       "    <tr>\n",
       "      <th>compactness</th>\n",
       "      <td>1.000000</td>\n",
       "      <td>0.685421</td>\n",
       "      <td>0.789909</td>\n",
       "      <td>0.689840</td>\n",
       "      <td>0.091704</td>\n",
       "      <td>0.148249</td>\n",
       "      <td>0.812235</td>\n",
       "      <td>-0.788643</td>\n",
       "      <td>0.813636</td>\n",
       "      <td>0.676143</td>\n",
       "      <td>0.762770</td>\n",
       "      <td>0.815901</td>\n",
       "      <td>0.585156</td>\n",
       "      <td>-0.250071</td>\n",
       "      <td>0.235687</td>\n",
       "      <td>0.157387</td>\n",
       "      <td>0.298526</td>\n",
       "      <td>0.365552</td>\n",
       "    </tr>\n",
       "    <tr>\n",
       "      <th>circularity</th>\n",
       "      <td>0.685421</td>\n",
       "      <td>1.000000</td>\n",
       "      <td>0.793016</td>\n",
       "      <td>0.620967</td>\n",
       "      <td>0.153362</td>\n",
       "      <td>0.251208</td>\n",
       "      <td>0.848207</td>\n",
       "      <td>-0.821901</td>\n",
       "      <td>0.844972</td>\n",
       "      <td>0.961943</td>\n",
       "      <td>0.796822</td>\n",
       "      <td>0.838525</td>\n",
       "      <td>0.926888</td>\n",
       "      <td>0.052642</td>\n",
       "      <td>0.144394</td>\n",
       "      <td>-0.011851</td>\n",
       "      <td>-0.105645</td>\n",
       "      <td>0.045318</td>\n",
       "    </tr>\n",
       "    <tr>\n",
       "      <th>distance_circularity</th>\n",
       "      <td>0.789909</td>\n",
       "      <td>0.793016</td>\n",
       "      <td>1.000000</td>\n",
       "      <td>0.767079</td>\n",
       "      <td>0.158397</td>\n",
       "      <td>0.264550</td>\n",
       "      <td>0.904400</td>\n",
       "      <td>-0.911435</td>\n",
       "      <td>0.893128</td>\n",
       "      <td>0.774669</td>\n",
       "      <td>0.861980</td>\n",
       "      <td>0.887328</td>\n",
       "      <td>0.705953</td>\n",
       "      <td>-0.225852</td>\n",
       "      <td>0.113813</td>\n",
       "      <td>0.265553</td>\n",
       "      <td>0.145563</td>\n",
       "      <td>0.332095</td>\n",
       "    </tr>\n",
       "    <tr>\n",
       "      <th>radius_ratio</th>\n",
       "      <td>0.689840</td>\n",
       "      <td>0.620967</td>\n",
       "      <td>0.767079</td>\n",
       "      <td>1.000000</td>\n",
       "      <td>0.663559</td>\n",
       "      <td>0.450036</td>\n",
       "      <td>0.734228</td>\n",
       "      <td>-0.789795</td>\n",
       "      <td>0.708285</td>\n",
       "      <td>0.569205</td>\n",
       "      <td>0.794041</td>\n",
       "      <td>0.720150</td>\n",
       "      <td>0.536536</td>\n",
       "      <td>-0.180819</td>\n",
       "      <td>0.048720</td>\n",
       "      <td>0.173832</td>\n",
       "      <td>0.382129</td>\n",
       "      <td>0.471262</td>\n",
       "    </tr>\n",
       "    <tr>\n",
       "      <th>pr.axis_aspect_ratio</th>\n",
       "      <td>0.091704</td>\n",
       "      <td>0.153362</td>\n",
       "      <td>0.158397</td>\n",
       "      <td>0.663559</td>\n",
       "      <td>1.000000</td>\n",
       "      <td>0.648704</td>\n",
       "      <td>0.103715</td>\n",
       "      <td>-0.183264</td>\n",
       "      <td>0.079395</td>\n",
       "      <td>0.127128</td>\n",
       "      <td>0.273414</td>\n",
       "      <td>0.089620</td>\n",
       "      <td>0.122111</td>\n",
       "      <td>0.152776</td>\n",
       "      <td>-0.058481</td>\n",
       "      <td>-0.032134</td>\n",
       "      <td>0.239849</td>\n",
       "      <td>0.267724</td>\n",
       "    </tr>\n",
       "    <tr>\n",
       "      <th>max.length_aspect_ratio</th>\n",
       "      <td>0.148249</td>\n",
       "      <td>0.251208</td>\n",
       "      <td>0.264550</td>\n",
       "      <td>0.450036</td>\n",
       "      <td>0.648704</td>\n",
       "      <td>1.000000</td>\n",
       "      <td>0.165967</td>\n",
       "      <td>-0.180041</td>\n",
       "      <td>0.161592</td>\n",
       "      <td>0.305943</td>\n",
       "      <td>0.318955</td>\n",
       "      <td>0.143713</td>\n",
       "      <td>0.189704</td>\n",
       "      <td>0.295574</td>\n",
       "      <td>0.015439</td>\n",
       "      <td>0.043489</td>\n",
       "      <td>-0.026180</td>\n",
       "      <td>0.143919</td>\n",
       "    </tr>\n",
       "    <tr>\n",
       "      <th>scatter_ratio</th>\n",
       "      <td>0.812235</td>\n",
       "      <td>0.848207</td>\n",
       "      <td>0.904400</td>\n",
       "      <td>0.734228</td>\n",
       "      <td>0.103715</td>\n",
       "      <td>0.165967</td>\n",
       "      <td>1.000000</td>\n",
       "      <td>-0.970723</td>\n",
       "      <td>0.989370</td>\n",
       "      <td>0.808356</td>\n",
       "      <td>0.948296</td>\n",
       "      <td>0.993784</td>\n",
       "      <td>0.799266</td>\n",
       "      <td>-0.027985</td>\n",
       "      <td>0.074308</td>\n",
       "      <td>0.213127</td>\n",
       "      <td>0.005167</td>\n",
       "      <td>0.118448</td>\n",
       "    </tr>\n",
       "    <tr>\n",
       "      <th>elongatedness</th>\n",
       "      <td>-0.788643</td>\n",
       "      <td>-0.821901</td>\n",
       "      <td>-0.911435</td>\n",
       "      <td>-0.789795</td>\n",
       "      <td>-0.183264</td>\n",
       "      <td>-0.180041</td>\n",
       "      <td>-0.970723</td>\n",
       "      <td>1.000000</td>\n",
       "      <td>-0.949077</td>\n",
       "      <td>-0.775519</td>\n",
       "      <td>-0.936715</td>\n",
       "      <td>-0.955074</td>\n",
       "      <td>-0.766029</td>\n",
       "      <td>0.103481</td>\n",
       "      <td>-0.051997</td>\n",
       "      <td>-0.185691</td>\n",
       "      <td>-0.114727</td>\n",
       "      <td>-0.216719</td>\n",
       "    </tr>\n",
       "    <tr>\n",
       "      <th>pr.axis_rectangularity</th>\n",
       "      <td>0.813636</td>\n",
       "      <td>0.844972</td>\n",
       "      <td>0.893128</td>\n",
       "      <td>0.708285</td>\n",
       "      <td>0.079395</td>\n",
       "      <td>0.161592</td>\n",
       "      <td>0.989370</td>\n",
       "      <td>-0.949077</td>\n",
       "      <td>1.000000</td>\n",
       "      <td>0.811447</td>\n",
       "      <td>0.934568</td>\n",
       "      <td>0.989490</td>\n",
       "      <td>0.797068</td>\n",
       "      <td>-0.015676</td>\n",
       "      <td>0.082974</td>\n",
       "      <td>0.214734</td>\n",
       "      <td>-0.018990</td>\n",
       "      <td>0.099191</td>\n",
       "    </tr>\n",
       "    <tr>\n",
       "      <th>max.length_rectangularity</th>\n",
       "      <td>0.676143</td>\n",
       "      <td>0.961943</td>\n",
       "      <td>0.774669</td>\n",
       "      <td>0.569205</td>\n",
       "      <td>0.127128</td>\n",
       "      <td>0.305943</td>\n",
       "      <td>0.808356</td>\n",
       "      <td>-0.775519</td>\n",
       "      <td>0.811447</td>\n",
       "      <td>1.000000</td>\n",
       "      <td>0.745209</td>\n",
       "      <td>0.796018</td>\n",
       "      <td>0.866425</td>\n",
       "      <td>0.041220</td>\n",
       "      <td>0.135745</td>\n",
       "      <td>0.001658</td>\n",
       "      <td>-0.104254</td>\n",
       "      <td>0.076770</td>\n",
       "    </tr>\n",
       "    <tr>\n",
       "      <th>scaled_variance</th>\n",
       "      <td>0.762770</td>\n",
       "      <td>0.796822</td>\n",
       "      <td>0.861980</td>\n",
       "      <td>0.794041</td>\n",
       "      <td>0.273414</td>\n",
       "      <td>0.318955</td>\n",
       "      <td>0.948296</td>\n",
       "      <td>-0.936715</td>\n",
       "      <td>0.934568</td>\n",
       "      <td>0.745209</td>\n",
       "      <td>1.000000</td>\n",
       "      <td>0.947021</td>\n",
       "      <td>0.778975</td>\n",
       "      <td>0.112299</td>\n",
       "      <td>0.036005</td>\n",
       "      <td>0.195260</td>\n",
       "      <td>0.014418</td>\n",
       "      <td>0.086594</td>\n",
       "    </tr>\n",
       "    <tr>\n",
       "      <th>scaled_variance.1</th>\n",
       "      <td>0.815901</td>\n",
       "      <td>0.838525</td>\n",
       "      <td>0.887328</td>\n",
       "      <td>0.720150</td>\n",
       "      <td>0.089620</td>\n",
       "      <td>0.143713</td>\n",
       "      <td>0.993784</td>\n",
       "      <td>-0.955074</td>\n",
       "      <td>0.989490</td>\n",
       "      <td>0.796018</td>\n",
       "      <td>0.947021</td>\n",
       "      <td>1.000000</td>\n",
       "      <td>0.796070</td>\n",
       "      <td>-0.016608</td>\n",
       "      <td>0.076974</td>\n",
       "      <td>0.201573</td>\n",
       "      <td>0.006637</td>\n",
       "      <td>0.103762</td>\n",
       "    </tr>\n",
       "    <tr>\n",
       "      <th>scaled_radius_of_gyration</th>\n",
       "      <td>0.585156</td>\n",
       "      <td>0.926888</td>\n",
       "      <td>0.705953</td>\n",
       "      <td>0.536536</td>\n",
       "      <td>0.122111</td>\n",
       "      <td>0.189704</td>\n",
       "      <td>0.799266</td>\n",
       "      <td>-0.766029</td>\n",
       "      <td>0.797068</td>\n",
       "      <td>0.866425</td>\n",
       "      <td>0.778975</td>\n",
       "      <td>0.796070</td>\n",
       "      <td>1.000000</td>\n",
       "      <td>0.191440</td>\n",
       "      <td>0.166371</td>\n",
       "      <td>-0.055973</td>\n",
       "      <td>-0.224866</td>\n",
       "      <td>-0.118157</td>\n",
       "    </tr>\n",
       "    <tr>\n",
       "      <th>scaled_radius_of_gyration.1</th>\n",
       "      <td>-0.250071</td>\n",
       "      <td>0.052642</td>\n",
       "      <td>-0.225852</td>\n",
       "      <td>-0.180819</td>\n",
       "      <td>0.152776</td>\n",
       "      <td>0.295574</td>\n",
       "      <td>-0.027985</td>\n",
       "      <td>0.103481</td>\n",
       "      <td>-0.015676</td>\n",
       "      <td>0.041220</td>\n",
       "      <td>0.112299</td>\n",
       "      <td>-0.016608</td>\n",
       "      <td>0.191440</td>\n",
       "      <td>1.000000</td>\n",
       "      <td>-0.088304</td>\n",
       "      <td>-0.126417</td>\n",
       "      <td>-0.749509</td>\n",
       "      <td>-0.802608</td>\n",
       "    </tr>\n",
       "    <tr>\n",
       "      <th>skewness_about</th>\n",
       "      <td>0.235687</td>\n",
       "      <td>0.144394</td>\n",
       "      <td>0.113813</td>\n",
       "      <td>0.048720</td>\n",
       "      <td>-0.058481</td>\n",
       "      <td>0.015439</td>\n",
       "      <td>0.074308</td>\n",
       "      <td>-0.051997</td>\n",
       "      <td>0.082974</td>\n",
       "      <td>0.135745</td>\n",
       "      <td>0.036005</td>\n",
       "      <td>0.076974</td>\n",
       "      <td>0.166371</td>\n",
       "      <td>-0.088304</td>\n",
       "      <td>1.000000</td>\n",
       "      <td>-0.035023</td>\n",
       "      <td>0.115145</td>\n",
       "      <td>0.096870</td>\n",
       "    </tr>\n",
       "    <tr>\n",
       "      <th>skewness_about.1</th>\n",
       "      <td>0.157387</td>\n",
       "      <td>-0.011851</td>\n",
       "      <td>0.265553</td>\n",
       "      <td>0.173832</td>\n",
       "      <td>-0.032134</td>\n",
       "      <td>0.043489</td>\n",
       "      <td>0.213127</td>\n",
       "      <td>-0.185691</td>\n",
       "      <td>0.214734</td>\n",
       "      <td>0.001658</td>\n",
       "      <td>0.195260</td>\n",
       "      <td>0.201573</td>\n",
       "      <td>-0.055973</td>\n",
       "      <td>-0.126417</td>\n",
       "      <td>-0.035023</td>\n",
       "      <td>1.000000</td>\n",
       "      <td>0.077428</td>\n",
       "      <td>0.205090</td>\n",
       "    </tr>\n",
       "    <tr>\n",
       "      <th>skewness_about.2</th>\n",
       "      <td>0.298526</td>\n",
       "      <td>-0.105645</td>\n",
       "      <td>0.145563</td>\n",
       "      <td>0.382129</td>\n",
       "      <td>0.239849</td>\n",
       "      <td>-0.026180</td>\n",
       "      <td>0.005167</td>\n",
       "      <td>-0.114727</td>\n",
       "      <td>-0.018990</td>\n",
       "      <td>-0.104254</td>\n",
       "      <td>0.014418</td>\n",
       "      <td>0.006637</td>\n",
       "      <td>-0.224866</td>\n",
       "      <td>-0.749509</td>\n",
       "      <td>0.115145</td>\n",
       "      <td>0.077428</td>\n",
       "      <td>1.000000</td>\n",
       "      <td>0.892840</td>\n",
       "    </tr>\n",
       "    <tr>\n",
       "      <th>hollows_ratio</th>\n",
       "      <td>0.365552</td>\n",
       "      <td>0.045318</td>\n",
       "      <td>0.332095</td>\n",
       "      <td>0.471262</td>\n",
       "      <td>0.267724</td>\n",
       "      <td>0.143919</td>\n",
       "      <td>0.118448</td>\n",
       "      <td>-0.216719</td>\n",
       "      <td>0.099191</td>\n",
       "      <td>0.076770</td>\n",
       "      <td>0.086594</td>\n",
       "      <td>0.103762</td>\n",
       "      <td>-0.118157</td>\n",
       "      <td>-0.802608</td>\n",
       "      <td>0.096870</td>\n",
       "      <td>0.205090</td>\n",
       "      <td>0.892840</td>\n",
       "      <td>1.000000</td>\n",
       "    </tr>\n",
       "  </tbody>\n",
       "</table>\n",
       "</div>"
      ],
      "text/plain": [
       "                             compactness  circularity  distance_circularity  \\\n",
       "compactness                     1.000000     0.685421              0.789909   \n",
       "circularity                     0.685421     1.000000              0.793016   \n",
       "distance_circularity            0.789909     0.793016              1.000000   \n",
       "radius_ratio                    0.689840     0.620967              0.767079   \n",
       "pr.axis_aspect_ratio            0.091704     0.153362              0.158397   \n",
       "max.length_aspect_ratio         0.148249     0.251208              0.264550   \n",
       "scatter_ratio                   0.812235     0.848207              0.904400   \n",
       "elongatedness                  -0.788643    -0.821901             -0.911435   \n",
       "pr.axis_rectangularity          0.813636     0.844972              0.893128   \n",
       "max.length_rectangularity       0.676143     0.961943              0.774669   \n",
       "scaled_variance                 0.762770     0.796822              0.861980   \n",
       "scaled_variance.1               0.815901     0.838525              0.887328   \n",
       "scaled_radius_of_gyration       0.585156     0.926888              0.705953   \n",
       "scaled_radius_of_gyration.1    -0.250071     0.052642             -0.225852   \n",
       "skewness_about                  0.235687     0.144394              0.113813   \n",
       "skewness_about.1                0.157387    -0.011851              0.265553   \n",
       "skewness_about.2                0.298526    -0.105645              0.145563   \n",
       "hollows_ratio                   0.365552     0.045318              0.332095   \n",
       "\n",
       "                             radius_ratio  pr.axis_aspect_ratio  \\\n",
       "compactness                      0.689840              0.091704   \n",
       "circularity                      0.620967              0.153362   \n",
       "distance_circularity             0.767079              0.158397   \n",
       "radius_ratio                     1.000000              0.663559   \n",
       "pr.axis_aspect_ratio             0.663559              1.000000   \n",
       "max.length_aspect_ratio          0.450036              0.648704   \n",
       "scatter_ratio                    0.734228              0.103715   \n",
       "elongatedness                   -0.789795             -0.183264   \n",
       "pr.axis_rectangularity           0.708285              0.079395   \n",
       "max.length_rectangularity        0.569205              0.127128   \n",
       "scaled_variance                  0.794041              0.273414   \n",
       "scaled_variance.1                0.720150              0.089620   \n",
       "scaled_radius_of_gyration        0.536536              0.122111   \n",
       "scaled_radius_of_gyration.1     -0.180819              0.152776   \n",
       "skewness_about                   0.048720             -0.058481   \n",
       "skewness_about.1                 0.173832             -0.032134   \n",
       "skewness_about.2                 0.382129              0.239849   \n",
       "hollows_ratio                    0.471262              0.267724   \n",
       "\n",
       "                             max.length_aspect_ratio  scatter_ratio  \\\n",
       "compactness                                 0.148249       0.812235   \n",
       "circularity                                 0.251208       0.848207   \n",
       "distance_circularity                        0.264550       0.904400   \n",
       "radius_ratio                                0.450036       0.734228   \n",
       "pr.axis_aspect_ratio                        0.648704       0.103715   \n",
       "max.length_aspect_ratio                     1.000000       0.165967   \n",
       "scatter_ratio                               0.165967       1.000000   \n",
       "elongatedness                              -0.180041      -0.970723   \n",
       "pr.axis_rectangularity                      0.161592       0.989370   \n",
       "max.length_rectangularity                   0.305943       0.808356   \n",
       "scaled_variance                             0.318955       0.948296   \n",
       "scaled_variance.1                           0.143713       0.993784   \n",
       "scaled_radius_of_gyration                   0.189704       0.799266   \n",
       "scaled_radius_of_gyration.1                 0.295574      -0.027985   \n",
       "skewness_about                              0.015439       0.074308   \n",
       "skewness_about.1                            0.043489       0.213127   \n",
       "skewness_about.2                           -0.026180       0.005167   \n",
       "hollows_ratio                               0.143919       0.118448   \n",
       "\n",
       "                             elongatedness  pr.axis_rectangularity  \\\n",
       "compactness                      -0.788643                0.813636   \n",
       "circularity                      -0.821901                0.844972   \n",
       "distance_circularity             -0.911435                0.893128   \n",
       "radius_ratio                     -0.789795                0.708285   \n",
       "pr.axis_aspect_ratio             -0.183264                0.079395   \n",
       "max.length_aspect_ratio          -0.180041                0.161592   \n",
       "scatter_ratio                    -0.970723                0.989370   \n",
       "elongatedness                     1.000000               -0.949077   \n",
       "pr.axis_rectangularity           -0.949077                1.000000   \n",
       "max.length_rectangularity        -0.775519                0.811447   \n",
       "scaled_variance                  -0.936715                0.934568   \n",
       "scaled_variance.1                -0.955074                0.989490   \n",
       "scaled_radius_of_gyration        -0.766029                0.797068   \n",
       "scaled_radius_of_gyration.1       0.103481               -0.015676   \n",
       "skewness_about                   -0.051997                0.082974   \n",
       "skewness_about.1                 -0.185691                0.214734   \n",
       "skewness_about.2                 -0.114727               -0.018990   \n",
       "hollows_ratio                    -0.216719                0.099191   \n",
       "\n",
       "                             max.length_rectangularity  scaled_variance  \\\n",
       "compactness                                   0.676143         0.762770   \n",
       "circularity                                   0.961943         0.796822   \n",
       "distance_circularity                          0.774669         0.861980   \n",
       "radius_ratio                                  0.569205         0.794041   \n",
       "pr.axis_aspect_ratio                          0.127128         0.273414   \n",
       "max.length_aspect_ratio                       0.305943         0.318955   \n",
       "scatter_ratio                                 0.808356         0.948296   \n",
       "elongatedness                                -0.775519        -0.936715   \n",
       "pr.axis_rectangularity                        0.811447         0.934568   \n",
       "max.length_rectangularity                     1.000000         0.745209   \n",
       "scaled_variance                               0.745209         1.000000   \n",
       "scaled_variance.1                             0.796018         0.947021   \n",
       "scaled_radius_of_gyration                     0.866425         0.778975   \n",
       "scaled_radius_of_gyration.1                   0.041220         0.112299   \n",
       "skewness_about                                0.135745         0.036005   \n",
       "skewness_about.1                              0.001658         0.195260   \n",
       "skewness_about.2                             -0.104254         0.014418   \n",
       "hollows_ratio                                 0.076770         0.086594   \n",
       "\n",
       "                             scaled_variance.1  scaled_radius_of_gyration  \\\n",
       "compactness                           0.815901                   0.585156   \n",
       "circularity                           0.838525                   0.926888   \n",
       "distance_circularity                  0.887328                   0.705953   \n",
       "radius_ratio                          0.720150                   0.536536   \n",
       "pr.axis_aspect_ratio                  0.089620                   0.122111   \n",
       "max.length_aspect_ratio               0.143713                   0.189704   \n",
       "scatter_ratio                         0.993784                   0.799266   \n",
       "elongatedness                        -0.955074                  -0.766029   \n",
       "pr.axis_rectangularity                0.989490                   0.797068   \n",
       "max.length_rectangularity             0.796018                   0.866425   \n",
       "scaled_variance                       0.947021                   0.778975   \n",
       "scaled_variance.1                     1.000000                   0.796070   \n",
       "scaled_radius_of_gyration             0.796070                   1.000000   \n",
       "scaled_radius_of_gyration.1          -0.016608                   0.191440   \n",
       "skewness_about                        0.076974                   0.166371   \n",
       "skewness_about.1                      0.201573                  -0.055973   \n",
       "skewness_about.2                      0.006637                  -0.224866   \n",
       "hollows_ratio                         0.103762                  -0.118157   \n",
       "\n",
       "                             scaled_radius_of_gyration.1  skewness_about  \\\n",
       "compactness                                    -0.250071        0.235687   \n",
       "circularity                                     0.052642        0.144394   \n",
       "distance_circularity                           -0.225852        0.113813   \n",
       "radius_ratio                                   -0.180819        0.048720   \n",
       "pr.axis_aspect_ratio                            0.152776       -0.058481   \n",
       "max.length_aspect_ratio                         0.295574        0.015439   \n",
       "scatter_ratio                                  -0.027985        0.074308   \n",
       "elongatedness                                   0.103481       -0.051997   \n",
       "pr.axis_rectangularity                         -0.015676        0.082974   \n",
       "max.length_rectangularity                       0.041220        0.135745   \n",
       "scaled_variance                                 0.112299        0.036005   \n",
       "scaled_variance.1                              -0.016608        0.076974   \n",
       "scaled_radius_of_gyration                       0.191440        0.166371   \n",
       "scaled_radius_of_gyration.1                     1.000000       -0.088304   \n",
       "skewness_about                                 -0.088304        1.000000   \n",
       "skewness_about.1                               -0.126417       -0.035023   \n",
       "skewness_about.2                               -0.749509        0.115145   \n",
       "hollows_ratio                                  -0.802608        0.096870   \n",
       "\n",
       "                             skewness_about.1  skewness_about.2  hollows_ratio  \n",
       "compactness                          0.157387          0.298526       0.365552  \n",
       "circularity                         -0.011851         -0.105645       0.045318  \n",
       "distance_circularity                 0.265553          0.145563       0.332095  \n",
       "radius_ratio                         0.173832          0.382129       0.471262  \n",
       "pr.axis_aspect_ratio                -0.032134          0.239849       0.267724  \n",
       "max.length_aspect_ratio              0.043489         -0.026180       0.143919  \n",
       "scatter_ratio                        0.213127          0.005167       0.118448  \n",
       "elongatedness                       -0.185691         -0.114727      -0.216719  \n",
       "pr.axis_rectangularity               0.214734         -0.018990       0.099191  \n",
       "max.length_rectangularity            0.001658         -0.104254       0.076770  \n",
       "scaled_variance                      0.195260          0.014418       0.086594  \n",
       "scaled_variance.1                    0.201573          0.006637       0.103762  \n",
       "scaled_radius_of_gyration           -0.055973         -0.224866      -0.118157  \n",
       "scaled_radius_of_gyration.1         -0.126417         -0.749509      -0.802608  \n",
       "skewness_about                      -0.035023          0.115145       0.096870  \n",
       "skewness_about.1                     1.000000          0.077428       0.205090  \n",
       "skewness_about.2                     0.077428          1.000000       0.892840  \n",
       "hollows_ratio                        0.205090          0.892840       1.000000  "
      ]
     },
     "execution_count": 14,
     "metadata": {},
     "output_type": "execute_result"
    }
   ],
   "source": [
    "df.corr()"
   ]
  },
  {
   "cell_type": "code",
   "execution_count": 15,
   "metadata": {},
   "outputs": [
    {
     "data": {
      "image/png": "[encoded data removed]",
      "text/plain": [
       "<Figure size 1152x720 with 2 Axes>"
      ]
     },
     "metadata": {
      "needs_background": "light"
     },
     "output_type": "display_data"
    }
   ],
   "source": [
    "rcParams['figure.figsize']=(16,10)\n",
    "sns.heatmap(df.corr(),annot=True,cmap = 'Wistia')\n",
    "plt.title('Heatmap for the Dataset', fontsize = 20)\n",
    "plt.show()"
   ]
  },
  {
   "cell_type": "markdown",
   "metadata": {},
   "source": [
    "We can observe that some features are highly correlated with one another."
   ]
  },
  {
   "cell_type": "code",
   "execution_count": 16,
   "metadata": {},
   "outputs": [
    {
     "data": {
      "text/plain": [
       "Text(0.5, 1.0, 'Distribution plot')"
      ]
     },
     "execution_count": 16,
     "metadata": {},
     "output_type": "execute_result"
    },
    {
     "data": {
      "image/png": "[encoded data removed]",
      "text/plain": [
       "<Figure size 576x432 with 1 Axes>"
      ]
     },
     "metadata": {
      "needs_background": "light"
     },
     "output_type": "display_data"
    }
   ],
   "source": [
    "rcParams['figure.figsize']=(8,6)\n",
    "sns.distplot(df['compactness'])\n",
    "plt.title('Distribution plot')"
   ]
  },
  {
   "cell_type": "code",
   "execution_count": 17,
   "metadata": {},
   "outputs": [
    {
     "data": {
      "text/plain": [
       "Text(0.5, 1.0, 'Box Plot')"
      ]
     },
     "execution_count": 17,
     "metadata": {},
     "output_type": "execute_result"
    },
    {
     "data": {
      "image/png": "[encoded data removed]",
      "text/plain": [
       "<Figure size 936x288 with 2 Axes>"
      ]
     },
     "metadata": {
      "needs_background": "light"
     },
     "output_type": "display_data"
    }
   ],
   "source": [
    "fig, (s1, s2) = plt.subplots(nrows = 1, ncols = 2)\n",
    "fig.set_size_inches(13,4)\n",
    "sns.distplot(df['radius_ratio'], ax = s1)\n",
    "s1.set_title(\"Distribution Plot\")\n",
    "\n",
    "sns.boxplot(df['radius_ratio'], ax = s2)\n",
    "s2.set_title(\"Box Plot\")"
   ]
  },
  {
   "cell_type": "code",
   "execution_count": 18,
   "metadata": {},
   "outputs": [
    {
     "name": "stdout",
     "output_type": "stream",
     "text": [
      "Quartile q1:  141.0\n",
      "Quartile q2:  168.0\n",
      "Quartile q3:  195.0\n",
      "Inter Quartile Range:  54.0\n",
      "radius_ratio above  276.0 are outliers\n",
      "No. of outliers  3\n"
     ]
    }
   ],
   "source": [
    "q1 = np.quantile(df['radius_ratio'], 0.25)\n",
    "q2 = np.quantile(df['radius_ratio'], 0.50)\n",
    "q3 = np.quantile(df['radius_ratio'], 0.75)\n",
    "IQR = q3 - q1\n",
    "\n",
    "print(\"Quartile q1: \", q1)\n",
    "print(\"Quartile q2: \", q2)\n",
    "print(\"Quartile q3: \", q3)\n",
    "print(\"Inter Quartile Range: \", IQR)\n",
    "\n",
    "print(\"radius_ratio above \", df['radius_ratio'].quantile(0.75) + (1.5*IQR), \"are outliers\")\n",
    "print(\"No. of outliers \", df[df['radius_ratio'] > 276]['radius_ratio'].shape[0])"
   ]
  },
  {
   "cell_type": "code",
   "execution_count": 19,
   "metadata": {},
   "outputs": [
    {
     "data": {
      "text/plain": [
       "Text(0.5, 1.0, ' BoxPlot')"
      ]
     },
     "execution_count": 19,
     "metadata": {},
     "output_type": "execute_result"
    },
    {
     "data": {
      "image/png": "[encoded data removed]",
      "text/plain": [
       "<Figure size 936x288 with 2 Axes>"
      ]
     },
     "metadata": {
      "needs_background": "light"
     },
     "output_type": "display_data"
    }
   ],
   "source": [
    "fig, (s1, s2) = plt.subplots(nrows = 1, ncols = 2)\n",
    "fig.set_size_inches(13,4)\n",
    "sns.distplot(df['circularity'], ax = s1)\n",
    "s1.set_title(\"Distribution Plot\")\n",
    "\n",
    "sns.boxplot(df['circularity'], ax = s2)\n",
    "s2.set_title(\" BoxPlot\")"
   ]
  },
  {
   "cell_type": "code",
   "execution_count": 20,
   "metadata": {},
   "outputs": [
    {
     "data": {
      "text/plain": [
       "Text(0.5, 1.0, 'Box Plot')"
      ]
     },
     "execution_count": 20,
     "metadata": {},
     "output_type": "execute_result"
    },
    {
     "data": {
      "image/png": "[encoded data removed]",
      "text/plain": [
       "<Figure size 1080x144 with 2 Axes>"
      ]
     },
     "metadata": {
      "needs_background": "light"
     },
     "output_type": "display_data"
    }
   ],
   "source": [
    "fig, (g1,g2) = plt.subplots(nrows = 1, ncols = 2)\n",
    "fig.set_size_inches(15,2)\n",
    "sns.distplot(df['distance_circularity'], ax = g1)\n",
    "g1.set_title(\"Distribution Plot\")\n",
    "\n",
    "sns.boxplot(df['distance_circularity'], ax = g2)\n",
    "g2.set_title(\"Box Plot\")"
   ]
  },
  {
   "cell_type": "code",
   "execution_count": 21,
   "metadata": {},
   "outputs": [
    {
     "data": {
      "text/plain": [
       "Text(0.5, 1.0, 'Distribution plot')"
      ]
     },
     "execution_count": 21,
     "metadata": {},
     "output_type": "execute_result"
    },
    {
     "data": {
      "image/png": "[encoded data removed]",
      "text/plain": [
       "<Figure size 432x288 with 1 Axes>"
      ]
     },
     "metadata": {
      "needs_background": "light"
     },
     "output_type": "display_data"
    }
   ],
   "source": [
    "rcParams['figure.figsize']=(6,4)\n",
    "sns.distplot(df['pr.axis_aspect_ratio'])\n",
    "plt.title('Distribution plot')"
   ]
  },
  {
   "cell_type": "code",
   "execution_count": 22,
   "metadata": {},
   "outputs": [
    {
     "data": {
      "text/plain": [
       "Text(0.5, 1.0, 'Box plot')"
      ]
     },
     "execution_count": 22,
     "metadata": {},
     "output_type": "execute_result"
    },
    {
     "data": {
      "image/png": "[encoded data removed]",
      "text/plain": [
       "<Figure size 432x288 with 1 Axes>"
      ]
     },
     "metadata": {
      "needs_background": "light"
     },
     "output_type": "display_data"
    }
   ],
   "source": [
    "rcParams['figure.figsize']=(6,4)\n",
    "sns.boxplot(df['max.length_aspect_ratio'])\n",
    "plt.title('Box plot')"
   ]
  },
  {
   "cell_type": "code",
   "execution_count": 23,
   "metadata": {},
   "outputs": [
    {
     "data": {
      "text/plain": [
       "Text(0.5, 1.0, 'Box Plot')"
      ]
     },
     "execution_count": 23,
     "metadata": {},
     "output_type": "execute_result"
    },
    {
     "data": {
      "image/png": "[encoded data removed]",
      "text/plain": [
       "<Figure size 1080x144 with 2 Axes>"
      ]
     },
     "metadata": {
      "needs_background": "light"
     },
     "output_type": "display_data"
    }
   ],
   "source": [
    "fig,(g1,g2) = plt.subplots(nrows = 1, ncols = 2)\n",
    "fig.set_size_inches(15,2)\n",
    "sns.distplot(df['scatter_ratio'], ax = g1)\n",
    "g1.set_title(\"Distribution Plot\")\n",
    "\n",
    "sns.boxplot(df['scatter_ratio'], ax = g2)\n",
    "g2.set_title(\"Box Plot\")"
   ]
  },
  {
   "cell_type": "code",
   "execution_count": 24,
   "metadata": {},
   "outputs": [
    {
     "data": {
      "text/plain": [
       "Text(0.5, 1.0, 'Box Plot')"
      ]
     },
     "execution_count": 24,
     "metadata": {},
     "output_type": "execute_result"
    },
    {
     "data": {
      "image/png": "[encoded data removed]",
      "text/plain": [
       "<Figure size 1440x288 with 2 Axes>"
      ]
     },
     "metadata": {
      "needs_background": "light"
     },
     "output_type": "display_data"
    }
   ],
   "source": [
    "fig,(ax1,ax2) = plt.subplots(nrows=1,ncols=2)\n",
    "fig.set_size_inches(20,4)\n",
    "sns.distplot(df['elongatedness'],ax=ax1)\n",
    "ax1.set_title(\"Distribution Plot\")\n",
    "\n",
    "sns.boxplot(df['elongatedness'],ax=ax2)\n",
    "ax2.set_title(\"Box Plot\")"
   ]
  },
  {
   "cell_type": "code",
   "execution_count": 25,
   "metadata": {},
   "outputs": [
    {
     "data": {
      "text/plain": [
       "Text(0.5, 1.0, 'Box Plot')"
      ]
     },
     "execution_count": 25,
     "metadata": {},
     "output_type": "execute_result"
    },
    {
     "data": {
      "image/png": "[encoded data removed]",
      "text/plain": [
       "<Figure size 1440x288 with 2 Axes>"
      ]
     },
     "metadata": {
      "needs_background": "light"
     },
     "output_type": "display_data"
    }
   ],
   "source": [
    "fig,(ax1,ax2) = plt.subplots(nrows=1,ncols=2)\n",
    "fig.set_size_inches(20,4)\n",
    "sns.distplot(df['pr.axis_rectangularity'],ax=ax1)\n",
    "ax1.set_title(\"Distribution Plot\")\n",
    "\n",
    "sns.boxplot(df['pr.axis_rectangularity'],ax=ax2)\n",
    "ax2.set_title(\"Box Plot\")"
   ]
  },
  {
   "cell_type": "code",
   "execution_count": 26,
   "metadata": {},
   "outputs": [
    {
     "data": {
      "text/plain": [
       "Text(0.5, 1.0, 'Swarm Plot')"
      ]
     },
     "execution_count": 26,
     "metadata": {},
     "output_type": "execute_result"
    },
    {
     "data": {
      "image/png": "[encoded data removed]",
      "text/plain": [
       "<Figure size 1440x288 with 2 Axes>"
      ]
     },
     "metadata": {
      "needs_background": "light"
     },
     "output_type": "display_data"
    }
   ],
   "source": [
    "fig,(ax1,ax2) = plt.subplots(nrows=1,ncols=2)\n",
    "fig.set_size_inches(20,4)\n",
    "sns.distplot(df['scaled_radius_of_gyration.1'],ax=ax1)\n",
    "ax1.set_title(\"Distribution Plot\")\n",
    "\n",
    "sns.swarmplot(df['scaled_radius_of_gyration.1'],ax=ax2)\n",
    "ax2.set_title(\"Swarm Plot\")"
   ]
  },
  {
   "cell_type": "code",
   "execution_count": 27,
   "metadata": {},
   "outputs": [
    {
     "data": {
      "text/plain": [
       "Text(0.5, 1.0, 'Box plot')"
      ]
     },
     "execution_count": 27,
     "metadata": {},
     "output_type": "execute_result"
    },
    {
     "data": {
      "image/png": "[encoded data removed]",
      "text/plain": [
       "<Figure size 1440x288 with 2 Axes>"
      ]
     },
     "metadata": {
      "needs_background": "light"
     },
     "output_type": "display_data"
    }
   ],
   "source": [
    "fig,(ax1,ax2) = plt.subplots(nrows=1,ncols=2)\n",
    "fig.set_size_inches(20,4)\n",
    "sns.distplot(df['skewness_about'],ax=ax1)\n",
    "ax1.set_title(\"Distribution Plot\")\n",
    "\n",
    "sns.boxplot(df['skewness_about'],ax=ax2)\n",
    "ax2.set_title(\"Box plot\")"
   ]
  },
  {
   "cell_type": "code",
   "execution_count": 28,
   "metadata": {},
   "outputs": [
    {
     "data": {
      "text/plain": [
       "Text(0.5, 1.0, 'Box Plot')"
      ]
     },
     "execution_count": 28,
     "metadata": {},
     "output_type": "execute_result"
    },
    {
     "data": {
      "image/png": "[encoded data removed]",
      "text/plain": [
       "<Figure size 1440x288 with 2 Axes>"
      ]
     },
     "metadata": {
      "needs_background": "light"
     },
     "output_type": "display_data"
    }
   ],
   "source": [
    "fig,(ax1,ax2) = plt.subplots(nrows=1,ncols=2)\n",
    "fig.set_size_inches(20,4)\n",
    "sns.distplot(df['hollows_ratio'],ax=ax1)\n",
    "ax1.set_title(\"Distribution Plot\")\n",
    "\n",
    "sns.boxplot(df['hollows_ratio'],ax=ax2)\n",
    "ax2.set_title(\"Box Plot\")"
   ]
  },
  {
   "cell_type": "code",
   "execution_count": 29,
   "metadata": {},
   "outputs": [
    {
     "data": {
      "text/plain": [
       "<matplotlib.axes._subplots.AxesSubplot at 0x18d41ebd2e8>"
      ]
     },
     "execution_count": 29,
     "metadata": {},
     "output_type": "execute_result"
    },
    {
     "data": {
      "image/png": "[encoded data removed]",
      "text/plain": [
       "<Figure size 432x288 with 1 Axes>"
      ]
     },
     "metadata": {
      "needs_background": "light"
     },
     "output_type": "display_data"
    }
   ],
   "source": [
    "sns.countplot(df['class'])"
   ]
  },
  {
   "cell_type": "markdown",
   "metadata": {},
   "source": [
    "<h2>PCA</h2>"
   ]
  },
  {
   "cell_type": "code",
   "execution_count": 32,
   "metadata": {},
   "outputs": [],
   "source": [
    "x_train=df.drop('class',axis=1)\n",
    "x_target=df['class']"
   ]
  },
  {
   "cell_type": "code",
   "execution_count": 34,
   "metadata": {},
   "outputs": [
    {
     "data": {
      "text/plain": [
       "(846, 18)"
      ]
     },
     "execution_count": 34,
     "metadata": {},
     "output_type": "execute_result"
    }
   ],
   "source": [
    "x_train.shape"
   ]
  },
  {
   "cell_type": "code",
   "execution_count": 35,
   "metadata": {},
   "outputs": [
    {
     "data": {
      "text/plain": [
       "(846,)"
      ]
     },
     "execution_count": 35,
     "metadata": {},
     "output_type": "execute_result"
    }
   ],
   "source": [
    "x_target.shape"
   ]
  },
  {
   "cell_type": "code",
   "execution_count": 36,
   "metadata": {},
   "outputs": [],
   "source": [
    "sc=StandardScaler()"
   ]
  },
  {
   "cell_type": "code",
   "execution_count": 37,
   "metadata": {},
   "outputs": [
    {
     "data": {
      "text/plain": [
       "StandardScaler()"
      ]
     },
     "execution_count": 37,
     "metadata": {},
     "output_type": "execute_result"
    }
   ],
   "source": [
    "sc.fit(x_train)"
   ]
  },
  {
   "cell_type": "code",
   "execution_count": 42,
   "metadata": {},
   "outputs": [],
   "source": [
    "from scipy.stats import zscore\n",
    "x_train_std=x_train.apply(zscore)"
   ]
  },
  {
   "cell_type": "markdown",
   "metadata": {},
   "source": [
    "Now we have to calculate the covariance so as to understand which features will be converted into principal components."
   ]
  },
  {
   "cell_type": "code",
   "execution_count": 43,
   "metadata": {},
   "outputs": [],
   "source": [
    "cov_matrix = np.cov(x_train_std.T)"
   ]
  },
  {
   "cell_type": "code",
   "execution_count": 44,
   "metadata": {},
   "outputs": [
    {
     "name": "stdout",
     "output_type": "stream",
     "text": [
      "[[ 1.00118343  0.68623251  0.79084412  0.69065619  0.09181254  0.14842463\n",
      "   0.81319623 -0.78957587  0.81459888  0.67694334  0.76367265  0.81686705\n",
      "   0.58584865 -0.25036693  0.23596607  0.15757316  0.2988797   0.36598446]\n",
      " [ 0.68623251  1.00118343  0.79395399  0.62170187  0.15354334  0.25150523\n",
      "   0.84921058 -0.82287347  0.84597164  0.96308094  0.7977645   0.83951746\n",
      "   0.92798524  0.05270433  0.14456452 -0.01186527 -0.1057698   0.04537164]\n",
      " [ 0.79084412  0.79395399  1.00118343  0.76798667  0.15858456  0.26486339\n",
      "   0.90547061 -0.91251368  0.89418513  0.77558624  0.86300031  0.88837793\n",
      "   0.70678835 -0.2261194   0.1139479   0.26586756  0.14573497  0.3324884 ]\n",
      " [ 0.69065619  0.62170187  0.76798667  1.00118343  0.6643445   0.45056889\n",
      "   0.73509724 -0.79072934  0.70912305  0.56987817  0.79498064  0.72100219\n",
      "   0.5371705  -0.1810333   0.04877731  0.17403799  0.38258162  0.47181974]\n",
      " [ 0.09181254  0.15354334  0.15858456  0.6643445   1.00118343  0.64947191\n",
      "   0.1038381  -0.18348087  0.07948935  0.12727847  0.27373802  0.08972584\n",
      "   0.12225517  0.15295712 -0.05855013 -0.0321716   0.24013301  0.26804079]\n",
      " [ 0.14842463  0.25150523  0.26486339  0.45056889  0.64947191  1.00118343\n",
      "   0.16616348 -0.18025396  0.16178281  0.30630475  0.31933203  0.14388275\n",
      "   0.18992805  0.29592367  0.01545721  0.04354026 -0.02621063  0.14408905]\n",
      " [ 0.81319623  0.84921058  0.90547061  0.73509724  0.1038381   0.16616348\n",
      "   1.00118343 -0.97187169  0.99054075  0.80931225  0.9494185   0.99496023\n",
      "   0.80021174 -0.02801827  0.07439557  0.213379    0.00517279  0.11858838]\n",
      " [-0.78957587 -0.82287347 -0.91251368 -0.79072934 -0.18348087 -0.18025396\n",
      "  -0.97187169  1.00118343 -0.9502004  -0.77643696 -0.93782312 -0.95620413\n",
      "  -0.76693543  0.10360323 -0.05205875 -0.18591103 -0.11486327 -0.21697531]\n",
      " [ 0.81459888  0.84597164  0.89418513  0.70912305  0.07948935  0.16178281\n",
      "   0.99054075 -0.9502004   1.00118343  0.81240688  0.93567387  0.99066083\n",
      "   0.79801083 -0.01569428  0.08307213  0.21498838 -0.01901199  0.09930879]\n",
      " [ 0.67694334  0.96308094  0.77558624  0.56987817  0.12727847  0.30630475\n",
      "   0.80931225 -0.77643696  0.81240688  1.00118343  0.74609112  0.79695953\n",
      "   0.86744991  0.04126865  0.13590584  0.00166022 -0.10437712  0.07686047]\n",
      " [ 0.76367265  0.7977645   0.86300031  0.79498064  0.27373802  0.31933203\n",
      "   0.9494185  -0.93782312  0.93567387  0.74609112  1.00118343  0.94814159\n",
      "   0.77989661  0.11243163  0.03604752  0.19549063  0.01443503  0.08669654]\n",
      " [ 0.81686705  0.83951746  0.88837793  0.72100219  0.08972584  0.14388275\n",
      "   0.99496023 -0.95620413  0.99066083  0.79695953  0.94814159  1.00118343\n",
      "   0.79701241 -0.0166278   0.07706469  0.20181158  0.00664479  0.10388468]\n",
      " [ 0.58584865  0.92798524  0.70678835  0.5371705   0.12225517  0.18992805\n",
      "   0.80021174 -0.76693543  0.79801083  0.86744991  0.77989661  0.79701241\n",
      "   1.00118343  0.19166642  0.16656805 -0.05603902 -0.22513165 -0.1182971 ]\n",
      " [-0.25036693  0.05270433 -0.2261194  -0.1810333   0.15295712  0.29592367\n",
      "  -0.02801827  0.10360323 -0.01569428  0.04126865  0.11243163 -0.0166278\n",
      "   0.19166642  1.00118343 -0.08840848 -0.12656621 -0.75039641 -0.8035581 ]\n",
      " [ 0.23596607  0.14456452  0.1139479   0.04877731 -0.05855013  0.01545721\n",
      "   0.07439557 -0.05205875  0.08307213  0.13590584  0.03604752  0.07706469\n",
      "   0.16656805 -0.08840848  1.00118343 -0.03506456  0.11528083  0.09698477]\n",
      " [ 0.15757316 -0.01186527  0.26586756  0.17403799 -0.0321716   0.04354026\n",
      "   0.213379   -0.18591103  0.21498838  0.00166022  0.19549063  0.20181158\n",
      "  -0.05603902 -0.12656621 -0.03506456  1.00118343  0.07751919  0.20533271]\n",
      " [ 0.2988797  -0.1057698   0.14573497  0.38258162  0.24013301 -0.02621063\n",
      "   0.00517279 -0.11486327 -0.01901199 -0.10437712  0.01443503  0.00664479\n",
      "  -0.22513165 -0.75039641  0.11528083  0.07751919  1.00118343  0.89389629]\n",
      " [ 0.36598446  0.04537164  0.3324884   0.47181974  0.26804079  0.14408905\n",
      "   0.11858838 -0.21697531  0.09930879  0.07686047  0.08669654  0.10388468\n",
      "  -0.1182971  -0.8035581   0.09698477  0.20533271  0.89389629  1.00118343]]\n"
     ]
    }
   ],
   "source": [
    "print(cov_matrix)"
   ]
  },
  {
   "cell_type": "code",
   "execution_count": 45,
   "metadata": {},
   "outputs": [
    {
     "name": "stdout",
     "output_type": "stream",
     "text": [
      "Eigen Vectors \n",
      "%s [[ 2.75259459e-01  1.27010856e-01  1.19874162e-01 -7.83109159e-02\n",
      "  -6.93062475e-02  1.44650156e-01  4.53755811e-01  5.64713964e-01\n",
      "   4.83554183e-01  2.61221731e-01 -4.64498989e-02  1.34446607e-02\n",
      "  -1.59324486e-01  6.56773512e-03 -5.98448138e-02 -1.62328028e-03\n",
      "  -6.05262978e-02 -3.85955867e-04]\n",
      " [ 2.93392341e-01 -1.26217125e-01  2.51835016e-02 -1.87525528e-01\n",
      "   8.50186000e-02 -3.00733370e-01 -2.48092973e-01  1.79295222e-01\n",
      "   1.45395937e-02 -9.75432534e-02 -2.55383379e-03 -1.97520615e-01\n",
      "  -1.46192222e-02 -7.98780902e-04  3.96666736e-01  7.62595458e-02\n",
      "  -3.40071641e-01 -5.85708475e-01]\n",
      " [ 3.04556452e-01  7.26862818e-02  5.60058748e-02  7.07959698e-02\n",
      "  -4.07236757e-02 -1.38488042e-01  7.27989653e-02 -4.36047225e-01\n",
      "   1.67573501e-01  2.08494817e-01 -7.05942549e-01 -6.37015997e-03\n",
      "   2.33090309e-01 -3.71748194e-03 -1.51057100e-01 -3.10533715e-02\n",
      "   6.61582176e-02 -1.58392894e-01]\n",
      " [ 2.67593206e-01  1.89635192e-01 -2.75066087e-01  4.22567515e-02\n",
      "   4.60157077e-02  2.48790981e-01 -1.76254297e-01 -1.02842629e-01\n",
      "   2.29283829e-01  4.67640705e-02  1.09331203e-01 -1.53338003e-01\n",
      "   3.72773946e-02  3.51061323e-02  5.47911127e-01 -1.17930209e-02\n",
      "   5.55812093e-01  8.49128383e-02]\n",
      " [ 8.04938998e-02  1.22158741e-01 -6.42046458e-01 -3.28577853e-02\n",
      "   4.05938987e-02  2.37891371e-01 -3.97139303e-01  7.00037572e-02\n",
      "   2.78146680e-01 -1.06402047e-01 -3.98460055e-02  1.06102798e-01\n",
      "   3.52080345e-02 -2.43114444e-02 -3.77410202e-01 -2.24279990e-03\n",
      "  -3.13678281e-01 -1.52865576e-02]\n",
      " [ 9.72198560e-02 -1.07277825e-02 -5.91799912e-01 -3.13199694e-02\n",
      "  -2.13611788e-01 -4.21019163e-01  5.01942813e-01 -1.61398982e-01\n",
      "  -1.48444457e-01  1.17006016e-01  2.62284104e-01 -1.34978575e-01\n",
      "  -3.96331632e-02  1.59430509e-02 -6.19810197e-02 -2.57564664e-02\n",
      "   3.99585987e-02 -8.76170905e-02]\n",
      " [ 3.16872006e-01 -4.80473095e-02  9.76530949e-02  9.59805230e-02\n",
      "   1.49966534e-02  1.16500946e-01  6.51356788e-02 -1.01508872e-01\n",
      "  -5.40256543e-02 -1.67989123e-01  1.78932470e-01  9.90598814e-02\n",
      "  -2.77208215e-02 -7.87481798e-01 -7.34314491e-02 -3.78959729e-01\n",
      "   1.08171007e-02 -8.48918581e-02]\n",
      " [-3.14042361e-01 -1.27991503e-02 -5.74645766e-02 -8.27380696e-02\n",
      "  -7.68013224e-02 -1.42363858e-01  1.38296617e-02  2.17059157e-01\n",
      "   1.57328623e-01  1.52973943e-01  5.81167714e-02  1.15948180e-01\n",
      "   8.16276880e-01 -2.15451179e-01  1.74317898e-01 -8.62127054e-02\n",
      "  -2.93020846e-02  3.48421184e-02]\n",
      " [ 3.13953009e-01 -6.00351423e-02  1.09509169e-01  9.22707338e-02\n",
      "  -1.49974985e-03  9.66562564e-02  9.68252218e-02 -6.30600540e-02\n",
      "  -7.88618369e-03 -1.95056611e-01  2.70357257e-01  2.49811837e-01\n",
      "   2.84149443e-01  3.61936345e-03 -2.03765179e-01  7.15809475e-01\n",
      "   1.48411909e-01 -1.55996605e-01]\n",
      " [ 2.82790417e-01 -1.16182501e-01  1.69994013e-02 -1.87987620e-01\n",
      "   6.05454411e-02 -4.61743374e-01 -1.06082148e-01  2.50219667e-01\n",
      "   6.35785222e-02 -4.69168243e-01 -1.44877007e-01 -1.33608962e-01\n",
      "   7.14237102e-02  1.79738837e-02 -1.43064661e-01 -4.18938490e-02\n",
      "   2.03533852e-01  4.98088431e-01]\n",
      " [ 3.09310530e-01 -6.17536908e-02 -5.64656174e-02  1.20373681e-01\n",
      "   4.65357387e-04  2.35776663e-01  1.15201506e-01 -4.94359347e-02\n",
      "  -2.97664037e-01  1.28603282e-01 -7.74757997e-02 -2.03035706e-01\n",
      "   1.54195550e-01 -3.73104756e-02  2.80303585e-01  1.69152485e-01\n",
      "  -5.28632349e-01  4.97350275e-01]\n",
      " [ 3.14149034e-01 -5.32757796e-02  1.08711428e-01  9.11993705e-02\n",
      "   1.94400323e-02  1.56331547e-01  8.35961845e-02 -4.17352678e-02\n",
      "  -8.05138644e-02 -1.54366630e-01  2.36375063e-01  1.59691871e-01\n",
      "   2.93113381e-01  5.72326684e-01 -7.94017239e-02 -5.45422179e-01\n",
      "  -6.81866698e-02 -1.05783058e-01]\n",
      " [ 2.72002525e-01 -2.09279660e-01  3.13685232e-02 -2.00101989e-01\n",
      "   6.16174983e-02 -1.34796340e-01 -3.74606354e-01  1.10225225e-01\n",
      "  -2.43566978e-01  6.85493190e-01  1.60353218e-01  1.80971205e-01\n",
      "  -3.80114101e-02 -7.82465972e-03 -1.94635371e-01 -2.92790588e-02\n",
      "   1.67711456e-01  1.03356843e-01]\n",
      " [-2.09179819e-02 -4.88541866e-01 -2.86211092e-01  6.56529653e-02\n",
      "  -1.45468415e-01  2.41355201e-01  1.12979630e-01  3.39509409e-01\n",
      "  -3.20573076e-01 -1.27135411e-01 -4.19043611e-01  2.86947325e-01\n",
      "  -3.77646853e-02 -4.18192790e-03  1.43539288e-01 -1.51321830e-02\n",
      "   2.19768012e-01 -1.40629939e-01]\n",
      " [ 4.13316728e-02  5.49212020e-02  1.15693651e-01 -6.05092749e-01\n",
      "  -7.28919699e-01  2.03564074e-01 -8.00456080e-02 -1.56326366e-01\n",
      "  -2.21294023e-02 -9.84766919e-02  1.27242432e-02 -2.36352879e-04\n",
      "  -9.35298109e-03  3.15112584e-03  1.72224864e-02  2.84624630e-03\n",
      "  -2.61698393e-02  2.66325309e-02]\n",
      " [ 5.83331566e-02  1.24152855e-01  7.54878378e-02  6.65740135e-01\n",
      "  -5.99543729e-01 -1.90919182e-01 -2.84844159e-01  2.09375626e-01\n",
      "  -9.38325789e-03  3.52467835e-02  3.21404510e-02 -8.42193869e-02\n",
      "  -2.89082312e-02  1.26092375e-02 -2.87774099e-02 -3.69016951e-03\n",
      "   2.12225258e-03 -1.00285562e-02]\n",
      " [ 3.01560495e-02  5.40947666e-01 -8.68929277e-03 -1.05617587e-01\n",
      "   1.00586804e-01  1.56533328e-01  1.88293388e-02  3.04037935e-01\n",
      "  -5.16503776e-01 -2.11431965e-02 -1.22349496e-01 -3.63774857e-01\n",
      "   1.80134155e-01 -4.18845913e-02 -2.28021110e-01 -1.96214267e-03\n",
      "   1.71936150e-01 -1.93738944e-01]\n",
      " [ 7.40813666e-02  5.40279812e-01 -3.95143108e-02 -4.76625092e-02\n",
      "   2.98863239e-02 -2.41821018e-01  1.44753202e-02  3.10660705e-02\n",
      "  -1.72055056e-01 -6.30336493e-02 -9.12116636e-02  6.94997204e-01\n",
      "  -1.30453124e-01  5.47059233e-03  2.74814338e-01  4.34700639e-03\n",
      "  -1.10395909e-01  9.23983982e-02]]\n",
      "\n",
      " Eigen Values \n",
      "%s [9.40828822e+00 3.01605477e+00 1.90347881e+00 1.18027268e+00\n",
      " 9.17174067e-01 5.39279825e-01 3.58566463e-01 2.21661730e-01\n",
      " 1.60036194e-01 9.17140864e-02 6.65751851e-02 4.59556829e-02\n",
      " 3.54023825e-02 3.08801865e-03 2.67096104e-02 9.23357029e-03\n",
      " 1.74414127e-02 2.03690624e-02]\n"
     ]
    }
   ],
   "source": [
    "eig_vals, eig_vecs = np.linalg.eig(cov_matrix)\n",
    "print('Eigen Vectors \\n%s', eig_vecs)\n",
    "print('\\n Eigen Values \\n%s', eig_vals)"
   ]
  },
  {
   "cell_type": "code",
   "execution_count": 49,
   "metadata": {},
   "outputs": [
    {
     "data": {
      "text/plain": [
       "PCA(n_components=18)"
      ]
     },
     "execution_count": 49,
     "metadata": {},
     "output_type": "execute_result"
    }
   ],
   "source": [
    "from sklearn.decomposition import PCA\n",
    "pca = PCA(n_components = 18)\n",
    "pca.fit(x_train_std)"
   ]
  },
  {
   "cell_type": "code",
   "execution_count": 50,
   "metadata": {},
   "outputs": [
    {
     "name": "stdout",
     "output_type": "stream",
     "text": [
      "[[ 2.75259459e-01  2.93392341e-01  3.04556452e-01  2.67593206e-01\n",
      "   8.04938998e-02  9.72198560e-02  3.16872006e-01 -3.14042361e-01\n",
      "   3.13953009e-01  2.82790417e-01  3.09310530e-01  3.14149034e-01\n",
      "   2.72002525e-01 -2.09179819e-02  4.13316728e-02  5.83331566e-02\n",
      "   3.01560495e-02  7.40813666e-02]\n",
      " [-1.27010856e-01  1.26217125e-01 -7.26862818e-02 -1.89635192e-01\n",
      "  -1.22158741e-01  1.07277825e-02  4.80473095e-02  1.27991503e-02\n",
      "   6.00351423e-02  1.16182501e-01  6.17536908e-02  5.32757796e-02\n",
      "   2.09279660e-01  4.88541866e-01 -5.49212020e-02 -1.24152855e-01\n",
      "  -5.40947666e-01 -5.40279812e-01]\n",
      " [-1.19874162e-01 -2.51835016e-02 -5.60058748e-02  2.75066087e-01\n",
      "   6.42046458e-01  5.91799912e-01 -9.76530949e-02  5.74645766e-02\n",
      "  -1.09509169e-01 -1.69994013e-02  5.64656174e-02 -1.08711428e-01\n",
      "  -3.13685232e-02  2.86211092e-01 -1.15693651e-01 -7.54878378e-02\n",
      "   8.68929277e-03  3.95143108e-02]\n",
      " [ 7.83109159e-02  1.87525528e-01 -7.07959698e-02 -4.22567515e-02\n",
      "   3.28577853e-02  3.13199694e-02 -9.59805230e-02  8.27380696e-02\n",
      "  -9.22707338e-02  1.87987620e-01 -1.20373681e-01 -9.11993705e-02\n",
      "   2.00101989e-01 -6.56529653e-02  6.05092749e-01 -6.65740135e-01\n",
      "   1.05617587e-01  4.76625092e-02]\n",
      " [ 6.93062475e-02 -8.50186000e-02  4.07236757e-02 -4.60157077e-02\n",
      "  -4.05938987e-02  2.13611788e-01 -1.49966534e-02  7.68013224e-02\n",
      "   1.49974985e-03 -6.05454411e-02 -4.65357387e-04 -1.94400323e-02\n",
      "  -6.16174983e-02  1.45468415e-01  7.28919699e-01  5.99543729e-01\n",
      "  -1.00586804e-01 -2.98863239e-02]\n",
      " [ 1.44650156e-01 -3.00733370e-01 -1.38488042e-01  2.48790981e-01\n",
      "   2.37891371e-01 -4.21019163e-01  1.16500946e-01 -1.42363858e-01\n",
      "   9.66562564e-02 -4.61743374e-01  2.35776663e-01  1.56331547e-01\n",
      "  -1.34796340e-01  2.41355201e-01  2.03564074e-01 -1.90919182e-01\n",
      "   1.56533328e-01 -2.41821018e-01]\n",
      " [ 4.53755811e-01 -2.48092973e-01  7.27989653e-02 -1.76254297e-01\n",
      "  -3.97139303e-01  5.01942813e-01  6.51356788e-02  1.38296617e-02\n",
      "   9.68252218e-02 -1.06082148e-01  1.15201506e-01  8.35961845e-02\n",
      "  -3.74606354e-01  1.12979630e-01 -8.00456080e-02 -2.84844159e-01\n",
      "   1.88293388e-02  1.44753202e-02]\n",
      " [-5.64713964e-01 -1.79295222e-01  4.36047225e-01  1.02842629e-01\n",
      "  -7.00037572e-02  1.61398982e-01  1.01508872e-01 -2.17059157e-01\n",
      "   6.30600540e-02 -2.50219667e-01  4.94359347e-02  4.17352678e-02\n",
      "  -1.10225225e-01 -3.39509409e-01  1.56326366e-01 -2.09375626e-01\n",
      "  -3.04037935e-01 -3.10660705e-02]\n",
      " [-4.83554183e-01 -1.45395937e-02 -1.67573501e-01 -2.29283829e-01\n",
      "  -2.78146680e-01  1.48444457e-01  5.40256543e-02 -1.57328623e-01\n",
      "   7.88618369e-03 -6.35785222e-02  2.97664037e-01  8.05138644e-02\n",
      "   2.43566978e-01  3.20573076e-01  2.21294023e-02  9.38325789e-03\n",
      "   5.16503776e-01  1.72055056e-01]\n",
      " [-2.61221731e-01  9.75432534e-02 -2.08494817e-01 -4.67640705e-02\n",
      "   1.06402047e-01 -1.17006016e-01  1.67989123e-01 -1.52973943e-01\n",
      "   1.95056611e-01  4.69168243e-01 -1.28603282e-01  1.54366630e-01\n",
      "  -6.85493190e-01  1.27135411e-01  9.84766919e-02 -3.52467835e-02\n",
      "   2.11431965e-02  6.30336493e-02]\n",
      " [ 4.64498989e-02  2.55383379e-03  7.05942549e-01 -1.09331203e-01\n",
      "   3.98460055e-02 -2.62284104e-01 -1.78932470e-01 -5.81167714e-02\n",
      "  -2.70357257e-01  1.44877007e-01  7.74757997e-02 -2.36375063e-01\n",
      "  -1.60353218e-01  4.19043611e-01 -1.27242432e-02 -3.21404510e-02\n",
      "   1.22349496e-01  9.12116636e-02]\n",
      " [ 1.34446607e-02 -1.97520615e-01 -6.37015997e-03 -1.53338003e-01\n",
      "   1.06102798e-01 -1.34978575e-01  9.90598814e-02  1.15948180e-01\n",
      "   2.49811837e-01 -1.33608962e-01 -2.03035706e-01  1.59691871e-01\n",
      "   1.80971205e-01  2.86947325e-01 -2.36352879e-04 -8.42193869e-02\n",
      "  -3.63774857e-01  6.94997204e-01]\n",
      " [-1.59324486e-01 -1.46192222e-02  2.33090309e-01  3.72773946e-02\n",
      "   3.52080345e-02 -3.96331632e-02 -2.77208215e-02  8.16276880e-01\n",
      "   2.84149443e-01  7.14237102e-02  1.54195550e-01  2.93113381e-01\n",
      "  -3.80114101e-02 -3.77646853e-02 -9.35298109e-03 -2.89082312e-02\n",
      "   1.80134155e-01 -1.30453124e-01]\n",
      " [-5.98448138e-02  3.96666736e-01 -1.51057100e-01  5.47911127e-01\n",
      "  -3.77410202e-01 -6.19810197e-02 -7.34314491e-02  1.74317898e-01\n",
      "  -2.03765179e-01 -1.43064661e-01  2.80303585e-01 -7.94017239e-02\n",
      "  -1.94635371e-01  1.43539288e-01  1.72224864e-02 -2.87774099e-02\n",
      "  -2.28021110e-01  2.74814338e-01]\n",
      " [-3.85955867e-04 -5.85708475e-01 -1.58392894e-01  8.49128383e-02\n",
      "  -1.52865576e-02 -8.76170905e-02 -8.48918581e-02  3.48421184e-02\n",
      "  -1.55996605e-01  4.98088431e-01  4.97350275e-01 -1.05783058e-01\n",
      "   1.03356843e-01 -1.40629939e-01  2.66325309e-02 -1.00285562e-02\n",
      "  -1.93738944e-01  9.23983982e-02]\n",
      " [-6.05262978e-02 -3.40071641e-01  6.61582176e-02  5.55812093e-01\n",
      "  -3.13678281e-01  3.99585987e-02  1.08171007e-02 -2.93020846e-02\n",
      "   1.48411909e-01  2.03533852e-01 -5.28632349e-01 -6.81866698e-02\n",
      "   1.67711456e-01  2.19768012e-01 -2.61698393e-02  2.12225258e-03\n",
      "   1.71936150e-01 -1.10395909e-01]\n",
      " [ 1.62328028e-03 -7.62595458e-02  3.10533715e-02  1.17930209e-02\n",
      "   2.24279990e-03  2.57564664e-02  3.78959729e-01  8.62127054e-02\n",
      "  -7.15809475e-01  4.18938490e-02 -1.69152485e-01  5.45422179e-01\n",
      "   2.92790588e-02  1.51321830e-02 -2.84624630e-03  3.69016951e-03\n",
      "   1.96214267e-03 -4.34700639e-03]\n",
      " [-6.56773512e-03  7.98780902e-04  3.71748194e-03 -3.51061323e-02\n",
      "   2.43114444e-02 -1.59430509e-02  7.87481798e-01  2.15451179e-01\n",
      "  -3.61936345e-03 -1.79738837e-02  3.73104756e-02 -5.72326684e-01\n",
      "   7.82465972e-03  4.18192790e-03 -3.15112584e-03 -1.26092375e-02\n",
      "   4.18845913e-02 -5.47059233e-03]]\n"
     ]
    }
   ],
   "source": [
    "print(pca.components_)"
   ]
  },
  {
   "cell_type": "markdown",
   "metadata": {},
   "source": [
    "Lets reduce the number of components from 18 to 6"
   ]
  },
  {
   "cell_type": "code",
   "execution_count": 51,
   "metadata": {},
   "outputs": [
    {
     "data": {
      "text/plain": [
       "PCA(n_components=6)"
      ]
     },
     "execution_count": 51,
     "metadata": {},
     "output_type": "execute_result"
    }
   ],
   "source": [
    "from sklearn.decomposition import PCA\n",
    "pca1 = PCA(n_components = 6)\n",
    "pca1.fit(x_train_std)"
   ]
  },
  {
   "cell_type": "code",
   "execution_count": 52,
   "metadata": {},
   "outputs": [
    {
     "name": "stdout",
     "output_type": "stream",
     "text": [
      "[[ 2.75259459e-01  2.93392341e-01  3.04556452e-01  2.67593206e-01\n",
      "   8.04938998e-02  9.72198560e-02  3.16872006e-01 -3.14042361e-01\n",
      "   3.13953009e-01  2.82790417e-01  3.09310530e-01  3.14149034e-01\n",
      "   2.72002525e-01 -2.09179819e-02  4.13316728e-02  5.83331566e-02\n",
      "   3.01560495e-02  7.40813666e-02]\n",
      " [-1.27010856e-01  1.26217125e-01 -7.26862818e-02 -1.89635192e-01\n",
      "  -1.22158741e-01  1.07277825e-02  4.80473095e-02  1.27991503e-02\n",
      "   6.00351423e-02  1.16182501e-01  6.17536908e-02  5.32757796e-02\n",
      "   2.09279660e-01  4.88541866e-01 -5.49212020e-02 -1.24152855e-01\n",
      "  -5.40947666e-01 -5.40279812e-01]\n",
      " [-1.19874162e-01 -2.51835016e-02 -5.60058748e-02  2.75066087e-01\n",
      "   6.42046458e-01  5.91799912e-01 -9.76530949e-02  5.74645766e-02\n",
      "  -1.09509169e-01 -1.69994013e-02  5.64656174e-02 -1.08711428e-01\n",
      "  -3.13685232e-02  2.86211092e-01 -1.15693651e-01 -7.54878378e-02\n",
      "   8.68929277e-03  3.95143108e-02]\n",
      " [ 7.83109159e-02  1.87525528e-01 -7.07959698e-02 -4.22567515e-02\n",
      "   3.28577853e-02  3.13199694e-02 -9.59805230e-02  8.27380696e-02\n",
      "  -9.22707338e-02  1.87987620e-01 -1.20373681e-01 -9.11993705e-02\n",
      "   2.00101989e-01 -6.56529653e-02  6.05092749e-01 -6.65740135e-01\n",
      "   1.05617587e-01  4.76625092e-02]\n",
      " [ 6.93062475e-02 -8.50186000e-02  4.07236757e-02 -4.60157077e-02\n",
      "  -4.05938987e-02  2.13611788e-01 -1.49966534e-02  7.68013224e-02\n",
      "   1.49974984e-03 -6.05454411e-02 -4.65357389e-04 -1.94400323e-02\n",
      "  -6.16174983e-02  1.45468415e-01  7.28919699e-01  5.99543729e-01\n",
      "  -1.00586804e-01 -2.98863239e-02]\n",
      " [ 1.44650156e-01 -3.00733370e-01 -1.38488042e-01  2.48790981e-01\n",
      "   2.37891371e-01 -4.21019163e-01  1.16500946e-01 -1.42363858e-01\n",
      "   9.66562564e-02 -4.61743374e-01  2.35776663e-01  1.56331547e-01\n",
      "  -1.34796340e-01  2.41355201e-01  2.03564074e-01 -1.90919182e-01\n",
      "   1.56533328e-01 -2.41821018e-01]]\n"
     ]
    }
   ],
   "source": [
    "print(pca1.components_)"
   ]
  },
  {
   "cell_type": "markdown",
   "metadata": {},
   "source": [
    "<h2>SVM</h2>"
   ]
  },
  {
   "cell_type": "code",
   "execution_count": 55,
   "metadata": {},
   "outputs": [],
   "source": [
    "X_train, X_test, y_train, y_test = train_test_split(x_train_std,x_target,test_size=0.33)"
   ]
  },
  {
   "cell_type": "code",
   "execution_count": 60,
   "metadata": {},
   "outputs": [],
   "source": [
    "from sklearn.svm import SVC\n",
    "svc_model1 = SVC(C= .1, kernel='linear', gamma= 1)\n",
    "svc_model1.fit(X_train, y_train)\n",
    "prediction = svc_model1.predict(X_test)"
   ]
  },
  {
   "cell_type": "code",
   "execution_count": 61,
   "metadata": {},
   "outputs": [
    {
     "name": "stdout",
     "output_type": "stream",
     "text": [
      "0.9321428571428572\n"
     ]
    }
   ],
   "source": [
    "print(accuracy_score(prediction,y_test))"
   ]
  },
  {
   "cell_type": "code",
   "execution_count": 65,
   "metadata": {},
   "outputs": [],
   "source": [
    "from sklearn.svm import SVC\n",
    "svc_model2 = SVC(C= .1, kernel='rbf', gamma= 1)\n",
    "svc_model2.fit(X_train, y_train)\n",
    "prediction = svc_model2.predict(X_test)"
   ]
  },
  {
   "cell_type": "code",
   "execution_count": 66,
   "metadata": {},
   "outputs": [
    {
     "name": "stdout",
     "output_type": "stream",
     "text": [
      "0.5071428571428571\n"
     ]
    }
   ],
   "source": [
    "print(accuracy_score(prediction,y_test))"
   ]
  },
  {
   "cell_type": "code",
   "execution_count": 68,
   "metadata": {},
   "outputs": [],
   "source": [
    "from sklearn.svm import SVC\n",
    "svc_model3 = SVC(C= .1, kernel='poly', gamma= 1)\n",
    "svc_model3.fit(X_train, y_train)\n",
    "prediction = svc_model3.predict(X_test)"
   ]
  },
  {
   "cell_type": "code",
   "execution_count": 69,
   "metadata": {},
   "outputs": [
    {
     "name": "stdout",
     "output_type": "stream",
     "text": [
      "0.9428571428571428\n"
     ]
    }
   ],
   "source": [
    "print(accuracy_score(prediction,y_test))"
   ]
  },
  {
   "cell_type": "markdown",
   "metadata": {},
   "source": [
    "Among the three kernels , SVM with polynomial kernel has the most accuracy."
   ]
  },
  {
   "cell_type": "markdown",
   "metadata": {},
   "source": [
    "<h2>LOGISTIC REGRESSION</h2>"
   ]
  },
  {
   "cell_type": "code",
   "execution_count": 73,
   "metadata": {},
   "outputs": [],
   "source": [
    "from sklearn.linear_model import LogisticRegression\n",
    "LR=LogisticRegression()"
   ]
  },
  {
   "cell_type": "code",
   "execution_count": 75,
   "metadata": {},
   "outputs": [
    {
     "data": {
      "text/plain": [
       "LogisticRegression()"
      ]
     },
     "execution_count": 75,
     "metadata": {},
     "output_type": "execute_result"
    }
   ],
   "source": [
    "LR.fit(X_train,y_train)"
   ]
  },
  {
   "cell_type": "code",
   "execution_count": 76,
   "metadata": {},
   "outputs": [],
   "source": [
    "yhat=LR.predict(X_test)"
   ]
  },
  {
   "cell_type": "code",
   "execution_count": 77,
   "metadata": {},
   "outputs": [
    {
     "data": {
      "text/plain": [
       "0.9464285714285714"
      ]
     },
     "execution_count": 77,
     "metadata": {},
     "output_type": "execute_result"
    }
   ],
   "source": [
    "accuracy_score(yhat,y_test)"
   ]
  },
  {
   "cell_type": "code",
   "execution_count": 78,
   "metadata": {},
   "outputs": [
    {
     "name": "stdout",
     "output_type": "stream",
     "text": [
      "              precision    recall  f1-score   support\n",
      "\n",
      "         bus       0.96      0.91      0.94        79\n",
      "         car       0.94      0.96      0.95       139\n",
      "         van       0.94      0.95      0.94        62\n",
      "\n",
      "    accuracy                           0.95       280\n",
      "   macro avg       0.95      0.94      0.94       280\n",
      "weighted avg       0.95      0.95      0.95       280\n",
      "\n"
     ]
    }
   ],
   "source": [
    "print(classification_report(yhat,y_test))"
   ]
  },
  {
   "cell_type": "code",
   "execution_count": 79,
   "metadata": {},
   "outputs": [
    {
     "name": "stdout",
     "output_type": "stream",
     "text": [
      "[[ 72   6   1]\n",
      " [  2 134   3]\n",
      " [  1   2  59]]\n"
     ]
    }
   ],
   "source": [
    "print(confusion_matrix(yhat,y_test))"
   ]
  },
  {
   "cell_type": "markdown",
   "metadata": {},
   "source": [
    "<h2>Naive Bayes</h2>"
   ]
  },
  {
   "cell_type": "code",
   "execution_count": 81,
   "metadata": {},
   "outputs": [],
   "source": [
    "from sklearn.naive_bayes import GaussianNB\n",
    "from sklearn import metrics\n",
    "nb_model = GaussianNB()\n",
    "nb_model.fit(X_train, y_train)\n",
    "predicted = nb_model.predict(X_test)"
   ]
  },
  {
   "cell_type": "code",
   "execution_count": 82,
   "metadata": {},
   "outputs": [
    {
     "name": "stdout",
     "output_type": "stream",
     "text": [
      "[[10  1  2]\n",
      " [17 98  5]\n",
      " [48 43 56]]\n"
     ]
    }
   ],
   "source": [
    "print(confusion_matrix(predicted,y_test))"
   ]
  },
  {
   "cell_type": "code",
   "execution_count": 84,
   "metadata": {},
   "outputs": [
    {
     "name": "stdout",
     "output_type": "stream",
     "text": [
      "              precision    recall  f1-score   support\n",
      "\n",
      "         bus       0.13      0.77      0.23        13\n",
      "         car       0.69      0.82      0.75       120\n",
      "         van       0.89      0.38      0.53       147\n",
      "\n",
      "    accuracy                           0.59       280\n",
      "   macro avg       0.57      0.66      0.50       280\n",
      "weighted avg       0.77      0.59      0.61       280\n",
      "\n"
     ]
    }
   ],
   "source": [
    "print(classification_report(predicted,y_test))"
   ]
  },
  {
   "cell_type": "code",
   "execution_count": 85,
   "metadata": {},
   "outputs": [
    {
     "name": "stdout",
     "output_type": "stream",
     "text": [
      "0.5857142857142857\n"
     ]
    }
   ],
   "source": [
    "print(accuracy_score(predicted,y_test))"
   ]
  },
  {
   "cell_type": "markdown",
   "metadata": {},
   "source": [
    "<h2>CONCLUSION</h2>"
   ]
  },
  {
   "cell_type": "markdown",
   "metadata": {},
   "source": [
    "SVM with polynomial kernel has given us the highest accuracy  among other models after DIMENSIONALITY REDUCTION has been performed."
   ]
  },
  {
   "cell_type": "code",
   "execution_count": null,
   "metadata": {},
   "outputs": [],
   "source": []
  }
 ],
 "metadata": {
  "kernelspec": {
   "display_name": "Python 3",
   "language": "python",
   "name": "python3"
  },
  "language_info": {
   "codemirror_mode": {
    "name": "ipython",
    "version": 3
   },
   "file_extension": ".py",
   "mimetype": "text/x-python",
   "name": "python",
   "nbconvert_exporter": "python",
   "pygments_lexer": "ipython3",
   "version": "3.7.3"
  }
 },
 "nbformat": 4,
 "nbformat_minor": 4
}
